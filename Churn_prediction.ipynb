{
 "cells": [
  {
   "cell_type": "code",
   "execution_count": 1,
   "id": "67ad4f88",
   "metadata": {},
   "outputs": [],
   "source": [
    "import pandas as pd\n",
    "import numpy as np \n",
    "    import matplotlib.pyplot as plt\n",
    "    from sklearn.linear_model import LogisticRegression\n",
    "    from catboost import CatBoostClassifier\n",
    "    from sklearn.model_selection import train_test_split, GridSearchCV\n",
    "    from sklearn.preprocessing import StandardScaler, OneHotEncoder\n",
    "    from sklearn.pipeline import make_pipeline\n",
    "    from sklearn.metrics import roc_auc_score\n",
    "    import warnings\n",
    "\n",
    "    warnings.filterwarnings('ignore')\n",
    "    %matplotlib inline"
   ]
  },
  {
   "cell_type": "code",
   "execution_count": 2,
   "id": "8cfff3b8",
   "metadata": {},
   "outputs": [],
   "source": [
    "data = pd.read_csv(r\"C:\\Users\\user\\Downloads\\train (1).csv\")\n",
    "test_data = pd.read_csv(r\"C:\\Users\\user\\Downloads\\test.csv\")"
   ]
  },
  {
   "cell_type": "code",
   "execution_count": 3,
   "id": "0a253e85",
   "metadata": {},
   "outputs": [
    {
     "data": {
      "text/html": [
       "<div>\n",
       "<style scoped>\n",
       "    .dataframe tbody tr th:only-of-type {\n",
       "        vertical-align: middle;\n",
       "    }\n",
       "\n",
       "    .dataframe tbody tr th {\n",
       "        vertical-align: top;\n",
       "    }\n",
       "\n",
       "    .dataframe thead th {\n",
       "        text-align: right;\n",
       "    }\n",
       "</style>\n",
       "<table border=\"1\" class=\"dataframe\">\n",
       "  <thead>\n",
       "    <tr style=\"text-align: right;\">\n",
       "      <th></th>\n",
       "      <th>ClientPeriod</th>\n",
       "      <th>MonthlySpending</th>\n",
       "      <th>TotalSpent</th>\n",
       "      <th>Sex</th>\n",
       "      <th>IsSeniorCitizen</th>\n",
       "      <th>HasPartner</th>\n",
       "      <th>HasChild</th>\n",
       "      <th>HasPhoneService</th>\n",
       "      <th>HasMultiplePhoneNumbers</th>\n",
       "      <th>HasInternetService</th>\n",
       "      <th>HasOnlineSecurityService</th>\n",
       "      <th>HasOnlineBackup</th>\n",
       "      <th>HasDeviceProtection</th>\n",
       "      <th>HasTechSupportAccess</th>\n",
       "      <th>HasOnlineTV</th>\n",
       "      <th>HasMovieSubscription</th>\n",
       "      <th>HasContractPhone</th>\n",
       "      <th>IsBillingPaperless</th>\n",
       "      <th>PaymentMethod</th>\n",
       "      <th>Churn</th>\n",
       "    </tr>\n",
       "  </thead>\n",
       "  <tbody>\n",
       "    <tr>\n",
       "      <th>0</th>\n",
       "      <td>55</td>\n",
       "      <td>19.50</td>\n",
       "      <td>1026.35</td>\n",
       "      <td>Male</td>\n",
       "      <td>0</td>\n",
       "      <td>Yes</td>\n",
       "      <td>Yes</td>\n",
       "      <td>Yes</td>\n",
       "      <td>No</td>\n",
       "      <td>No</td>\n",
       "      <td>No internet service</td>\n",
       "      <td>No internet service</td>\n",
       "      <td>No internet service</td>\n",
       "      <td>No internet service</td>\n",
       "      <td>No internet service</td>\n",
       "      <td>No internet service</td>\n",
       "      <td>One year</td>\n",
       "      <td>No</td>\n",
       "      <td>Mailed check</td>\n",
       "      <td>0</td>\n",
       "    </tr>\n",
       "    <tr>\n",
       "      <th>1</th>\n",
       "      <td>72</td>\n",
       "      <td>25.85</td>\n",
       "      <td>1872.2</td>\n",
       "      <td>Male</td>\n",
       "      <td>0</td>\n",
       "      <td>Yes</td>\n",
       "      <td>No</td>\n",
       "      <td>Yes</td>\n",
       "      <td>Yes</td>\n",
       "      <td>No</td>\n",
       "      <td>No internet service</td>\n",
       "      <td>No internet service</td>\n",
       "      <td>No internet service</td>\n",
       "      <td>No internet service</td>\n",
       "      <td>No internet service</td>\n",
       "      <td>No internet service</td>\n",
       "      <td>Two year</td>\n",
       "      <td>No</td>\n",
       "      <td>Credit card (automatic)</td>\n",
       "      <td>0</td>\n",
       "    </tr>\n",
       "    <tr>\n",
       "      <th>2</th>\n",
       "      <td>1</td>\n",
       "      <td>75.90</td>\n",
       "      <td>75.9</td>\n",
       "      <td>Male</td>\n",
       "      <td>0</td>\n",
       "      <td>No</td>\n",
       "      <td>No</td>\n",
       "      <td>Yes</td>\n",
       "      <td>No</td>\n",
       "      <td>Fiber optic</td>\n",
       "      <td>No</td>\n",
       "      <td>No</td>\n",
       "      <td>No</td>\n",
       "      <td>Yes</td>\n",
       "      <td>No</td>\n",
       "      <td>No</td>\n",
       "      <td>Month-to-month</td>\n",
       "      <td>Yes</td>\n",
       "      <td>Electronic check</td>\n",
       "      <td>1</td>\n",
       "    </tr>\n",
       "    <tr>\n",
       "      <th>3</th>\n",
       "      <td>32</td>\n",
       "      <td>79.30</td>\n",
       "      <td>2570</td>\n",
       "      <td>Female</td>\n",
       "      <td>1</td>\n",
       "      <td>Yes</td>\n",
       "      <td>No</td>\n",
       "      <td>Yes</td>\n",
       "      <td>Yes</td>\n",
       "      <td>Fiber optic</td>\n",
       "      <td>No</td>\n",
       "      <td>No</td>\n",
       "      <td>Yes</td>\n",
       "      <td>No</td>\n",
       "      <td>No</td>\n",
       "      <td>No</td>\n",
       "      <td>Month-to-month</td>\n",
       "      <td>No</td>\n",
       "      <td>Mailed check</td>\n",
       "      <td>0</td>\n",
       "    </tr>\n",
       "    <tr>\n",
       "      <th>4</th>\n",
       "      <td>60</td>\n",
       "      <td>115.25</td>\n",
       "      <td>6758.45</td>\n",
       "      <td>Female</td>\n",
       "      <td>0</td>\n",
       "      <td>Yes</td>\n",
       "      <td>Yes</td>\n",
       "      <td>Yes</td>\n",
       "      <td>Yes</td>\n",
       "      <td>Fiber optic</td>\n",
       "      <td>Yes</td>\n",
       "      <td>Yes</td>\n",
       "      <td>Yes</td>\n",
       "      <td>Yes</td>\n",
       "      <td>Yes</td>\n",
       "      <td>Yes</td>\n",
       "      <td>Two year</td>\n",
       "      <td>No</td>\n",
       "      <td>Credit card (automatic)</td>\n",
       "      <td>0</td>\n",
       "    </tr>\n",
       "  </tbody>\n",
       "</table>\n",
       "</div>"
      ],
      "text/plain": [
       "   ClientPeriod  MonthlySpending TotalSpent     Sex  IsSeniorCitizen  \\\n",
       "0            55            19.50    1026.35    Male                0   \n",
       "1            72            25.85     1872.2    Male                0   \n",
       "2             1            75.90       75.9    Male                0   \n",
       "3            32            79.30       2570  Female                1   \n",
       "4            60           115.25    6758.45  Female                0   \n",
       "\n",
       "  HasPartner HasChild HasPhoneService HasMultiplePhoneNumbers  \\\n",
       "0        Yes      Yes             Yes                      No   \n",
       "1        Yes       No             Yes                     Yes   \n",
       "2         No       No             Yes                      No   \n",
       "3        Yes       No             Yes                     Yes   \n",
       "4        Yes      Yes             Yes                     Yes   \n",
       "\n",
       "  HasInternetService HasOnlineSecurityService      HasOnlineBackup  \\\n",
       "0                 No      No internet service  No internet service   \n",
       "1                 No      No internet service  No internet service   \n",
       "2        Fiber optic                       No                   No   \n",
       "3        Fiber optic                       No                   No   \n",
       "4        Fiber optic                      Yes                  Yes   \n",
       "\n",
       "   HasDeviceProtection HasTechSupportAccess          HasOnlineTV  \\\n",
       "0  No internet service  No internet service  No internet service   \n",
       "1  No internet service  No internet service  No internet service   \n",
       "2                   No                  Yes                   No   \n",
       "3                  Yes                   No                   No   \n",
       "4                  Yes                  Yes                  Yes   \n",
       "\n",
       "  HasMovieSubscription HasContractPhone IsBillingPaperless  \\\n",
       "0  No internet service         One year                 No   \n",
       "1  No internet service         Two year                 No   \n",
       "2                   No   Month-to-month                Yes   \n",
       "3                   No   Month-to-month                 No   \n",
       "4                  Yes         Two year                 No   \n",
       "\n",
       "             PaymentMethod  Churn  \n",
       "0             Mailed check      0  \n",
       "1  Credit card (automatic)      0  \n",
       "2         Electronic check      1  \n",
       "3             Mailed check      0  \n",
       "4  Credit card (automatic)      0  "
      ]
     },
     "execution_count": 3,
     "metadata": {},
     "output_type": "execute_result"
    }
   ],
   "source": [
    "data.head()"
   ]
  },
  {
   "cell_type": "code",
   "execution_count": 4,
   "id": "65cd38e6",
   "metadata": {},
   "outputs": [
    {
     "name": "stdout",
     "output_type": "stream",
     "text": [
      "[55 72  1 32 60 25 27 50 16 70 69 26 38 30 52 71 59 61  7 20 48 22  2 21\n",
      " 44 66 58 46 45  5  4  3 62  6 39 68 51 40 10 43 12 35 31 67  8 11 29 37\n",
      " 33 14 15 47 23 65 13 41 53  9 64 42 34 17 18 63 56 54 24 28 49 19 57 36\n",
      "  0]\n",
      "[ 19.5   25.85  75.9  ... 112.25 117.5   98.2 ]\n",
      "['1026.35' '1872.2' '75.9' ... '55.05' '2215.25' '1375.6']\n",
      "['Male' 'Female']\n",
      "[0 1]\n",
      "['Yes' 'No']\n",
      "['Yes' 'No']\n",
      "['Yes' 'No']\n",
      "['No' 'Yes' 'No phone service']\n",
      "['No' 'Fiber optic' 'DSL']\n",
      "['No internet service' 'No' 'Yes']\n",
      "['No internet service' 'No' 'Yes']\n",
      "['No internet service' 'No' 'Yes']\n",
      "['No internet service' 'Yes' 'No']\n",
      "['No internet service' 'No' 'Yes']\n",
      "['No internet service' 'No' 'Yes']\n",
      "['One year' 'Two year' 'Month-to-month']\n",
      "['No' 'Yes']\n",
      "['Mailed check' 'Credit card (automatic)' 'Electronic check'\n",
      " 'Bank transfer (automatic)']\n",
      "[0 1]\n"
     ]
    }
   ],
   "source": [
    "for column in data.columns:\n",
    "    print(data[column].unique())"
   ]
  },
  {
   "cell_type": "markdown",
   "id": "c7fd6c9f",
   "metadata": {},
   "source": [
    "Необходимо изменить форматы: Total Spent должен быть числовой переменной, IsSeniorCitizen - категориальной (1 - Yes, 0 - No)"
   ]
  },
  {
   "cell_type": "code",
   "execution_count": 5,
   "id": "4beb0e93",
   "metadata": {},
   "outputs": [],
   "source": [
    "data.replace(' ', np.nan, inplace=True)\n",
    "data['TotalSpent'] = data.TotalSpent.fillna(0).astype(float)"
   ]
  },
  {
   "cell_type": "code",
   "execution_count": 6,
   "id": "8b62787e",
   "metadata": {},
   "outputs": [],
   "source": [
    "data['IsSeniorCitizen'] = data['IsSeniorCitizen'].map({1: 'Yes', 0: 'No'})"
   ]
  },
  {
   "cell_type": "code",
   "execution_count": 7,
   "id": "960a779f",
   "metadata": {},
   "outputs": [
    {
     "name": "stdout",
     "output_type": "stream",
     "text": [
      "<class 'pandas.core.frame.DataFrame'>\n",
      "RangeIndex: 1761 entries, 0 to 1760\n",
      "Data columns (total 19 columns):\n",
      " #   Column                    Non-Null Count  Dtype  \n",
      "---  ------                    --------------  -----  \n",
      " 0   ClientPeriod              1761 non-null   int64  \n",
      " 1   MonthlySpending           1761 non-null   float64\n",
      " 2   TotalSpent                1761 non-null   object \n",
      " 3   Sex                       1761 non-null   object \n",
      " 4   IsSeniorCitizen           1761 non-null   int64  \n",
      " 5   HasPartner                1761 non-null   object \n",
      " 6   HasChild                  1761 non-null   object \n",
      " 7   HasPhoneService           1761 non-null   object \n",
      " 8   HasMultiplePhoneNumbers   1761 non-null   object \n",
      " 9   HasInternetService        1761 non-null   object \n",
      " 10  HasOnlineSecurityService  1761 non-null   object \n",
      " 11  HasOnlineBackup           1761 non-null   object \n",
      " 12  HasDeviceProtection       1761 non-null   object \n",
      " 13  HasTechSupportAccess      1761 non-null   object \n",
      " 14  HasOnlineTV               1761 non-null   object \n",
      " 15  HasMovieSubscription      1761 non-null   object \n",
      " 16  HasContractPhone          1761 non-null   object \n",
      " 17  IsBillingPaperless        1761 non-null   object \n",
      " 18  PaymentMethod             1761 non-null   object \n",
      "dtypes: float64(1), int64(2), object(16)\n",
      "memory usage: 261.5+ KB\n"
     ]
    }
   ],
   "source": [
    "test_data.info()"
   ]
  },
  {
   "cell_type": "code",
   "execution_count": 8,
   "id": "9feed750",
   "metadata": {},
   "outputs": [],
   "source": [
    "test_data.replace(' ', np.nan, inplace=True)\n",
    "test_data['TotalSpent'] = test_data.TotalSpent.fillna(0).astype(float)\n",
    "test_data['IsSeniorCitizen'] = test_data['IsSeniorCitizen'].map({1: 'Yes', 0: 'No'})"
   ]
  },
  {
   "cell_type": "code",
   "execution_count": 9,
   "id": "afc8b4ea",
   "metadata": {},
   "outputs": [
    {
     "data": {
      "text/plain": [
       "ClientPeriod                0\n",
       "MonthlySpending             0\n",
       "TotalSpent                  0\n",
       "Sex                         0\n",
       "IsSeniorCitizen             0\n",
       "HasPartner                  0\n",
       "HasChild                    0\n",
       "HasPhoneService             0\n",
       "HasMultiplePhoneNumbers     0\n",
       "HasInternetService          0\n",
       "HasOnlineSecurityService    0\n",
       "HasOnlineBackup             0\n",
       "HasDeviceProtection         0\n",
       "HasTechSupportAccess        0\n",
       "HasOnlineTV                 0\n",
       "HasMovieSubscription        0\n",
       "HasContractPhone            0\n",
       "IsBillingPaperless          0\n",
       "PaymentMethod               0\n",
       "dtype: int64"
      ]
     },
     "execution_count": 9,
     "metadata": {},
     "output_type": "execute_result"
    }
   ],
   "source": [
    "test_data.isna().sum()"
   ]
  },
  {
   "cell_type": "code",
   "execution_count": 10,
   "id": "0565d5b6",
   "metadata": {},
   "outputs": [],
   "source": [
    "numeric_columns = ['ClientPeriod', 'MonthlySpending', 'TotalSpent']\n",
    "categorical_columns = ['Sex',\n",
    "                       'IsSeniorCitizen',\n",
    "                       'HasPartner',\n",
    "                       'HasChild',\n",
    "                       'HasPhoneService',\n",
    "                       'HasMultiplePhoneNumbers',\n",
    "                       'HasInternetService',\n",
    "                       'HasOnlineSecurityService',\n",
    "                       'HasOnlineBackup',\n",
    "                       'HasDeviceProtection',\n",
    "                       'HasTechSupportAccess',\n",
    "                       'HasOnlineTV',\n",
    "                       'HasMovieSubscription',\n",
    "                       'HasContractPhone',\n",
    "                       'IsBillingPaperless',\n",
    "                       'PaymentMethod']\n",
    "\n",
    "feature_columns = numeric_columns + categorical_columns\n",
    "target_column = 'Churn'"
   ]
  },
  {
   "cell_type": "markdown",
   "id": "890aa929",
   "metadata": {},
   "source": [
    "Посмотрим на распределение числовых и категориальных переменных"
   ]
  },
  {
   "cell_type": "code",
   "execution_count": 11,
   "id": "232fe26f",
   "metadata": {},
   "outputs": [
    {
     "data": {
      "image/png": "[encoded data removed]",
      "text/plain": [
       "<Figure size 1800x1440 with 20 Axes>"
      ]
     },
     "metadata": {
      "needs_background": "light"
     },
     "output_type": "display_data"
    }
   ],
   "source": [
    "fig, axis = plt.subplots(5, 4, figsize=(25, 20))\n",
    "\n",
    "\n",
    "for col, ax in zip(data.columns, axis.flatten()):\n",
    "    if col in numeric_columns:\n",
    "        data[col].plot(kind='hist', ax=ax)\n",
    "        ax.set_title('Distribution of ' + str(col) + ' feature')\n",
    "    else:\n",
    "        ax.set_title(col)\n",
    "        ax.pie(data[col].value_counts(), autopct='%1.1f%%', labels=data[col].value_counts().index)\n",
    "fig.show()"
   ]
  },
  {
   "cell_type": "markdown",
   "id": "3d1f97cb",
   "metadata": {},
   "source": [
    "По распределению целевой переменной видим, что классы не сбалансированы, следовательно нельзя использовать метрику Accuracy, стоит использовать ROC-AUC метрику, которая не чувствительна к дисбалансу классов"
   ]
  },
  {
   "cell_type": "markdown",
   "id": "2ae0e0c9",
   "metadata": {},
   "source": [
    "Разделим данные на тренировочную и валидационную выборку"
   ]
  },
  {
   "cell_type": "code",
   "execution_count": 12,
   "id": "c282f4a2",
   "metadata": {},
   "outputs": [],
   "source": [
    "X = data.drop(['Churn'], axis=1)\n",
    "y = data['Churn']"
   ]
  },
  {
   "cell_type": "code",
   "execution_count": 13,
   "id": "5863d921",
   "metadata": {},
   "outputs": [
    {
     "data": {
      "text/html": [
       "<div>\n",
       "<style scoped>\n",
       "    .dataframe tbody tr th:only-of-type {\n",
       "        vertical-align: middle;\n",
       "    }\n",
       "\n",
       "    .dataframe tbody tr th {\n",
       "        vertical-align: top;\n",
       "    }\n",
       "\n",
       "    .dataframe thead th {\n",
       "        text-align: right;\n",
       "    }\n",
       "</style>\n",
       "<table border=\"1\" class=\"dataframe\">\n",
       "  <thead>\n",
       "    <tr style=\"text-align: right;\">\n",
       "      <th></th>\n",
       "      <th>ClientPeriod</th>\n",
       "      <th>MonthlySpending</th>\n",
       "      <th>TotalSpent</th>\n",
       "      <th>Sex</th>\n",
       "      <th>IsSeniorCitizen</th>\n",
       "      <th>HasPartner</th>\n",
       "      <th>HasChild</th>\n",
       "      <th>HasPhoneService</th>\n",
       "      <th>HasMultiplePhoneNumbers</th>\n",
       "      <th>HasInternetService</th>\n",
       "      <th>HasOnlineSecurityService</th>\n",
       "      <th>HasOnlineBackup</th>\n",
       "      <th>HasDeviceProtection</th>\n",
       "      <th>HasTechSupportAccess</th>\n",
       "      <th>HasOnlineTV</th>\n",
       "      <th>HasMovieSubscription</th>\n",
       "      <th>HasContractPhone</th>\n",
       "      <th>IsBillingPaperless</th>\n",
       "      <th>PaymentMethod</th>\n",
       "    </tr>\n",
       "  </thead>\n",
       "  <tbody>\n",
       "    <tr>\n",
       "      <th>0</th>\n",
       "      <td>55</td>\n",
       "      <td>19.50</td>\n",
       "      <td>1026.35</td>\n",
       "      <td>Male</td>\n",
       "      <td>No</td>\n",
       "      <td>Yes</td>\n",
       "      <td>Yes</td>\n",
       "      <td>Yes</td>\n",
       "      <td>No</td>\n",
       "      <td>No</td>\n",
       "      <td>No internet service</td>\n",
       "      <td>No internet service</td>\n",
       "      <td>No internet service</td>\n",
       "      <td>No internet service</td>\n",
       "      <td>No internet service</td>\n",
       "      <td>No internet service</td>\n",
       "      <td>One year</td>\n",
       "      <td>No</td>\n",
       "      <td>Mailed check</td>\n",
       "    </tr>\n",
       "    <tr>\n",
       "      <th>1</th>\n",
       "      <td>72</td>\n",
       "      <td>25.85</td>\n",
       "      <td>1872.20</td>\n",
       "      <td>Male</td>\n",
       "      <td>No</td>\n",
       "      <td>Yes</td>\n",
       "      <td>No</td>\n",
       "      <td>Yes</td>\n",
       "      <td>Yes</td>\n",
       "      <td>No</td>\n",
       "      <td>No internet service</td>\n",
       "      <td>No internet service</td>\n",
       "      <td>No internet service</td>\n",
       "      <td>No internet service</td>\n",
       "      <td>No internet service</td>\n",
       "      <td>No internet service</td>\n",
       "      <td>Two year</td>\n",
       "      <td>No</td>\n",
       "      <td>Credit card (automatic)</td>\n",
       "    </tr>\n",
       "    <tr>\n",
       "      <th>2</th>\n",
       "      <td>1</td>\n",
       "      <td>75.90</td>\n",
       "      <td>75.90</td>\n",
       "      <td>Male</td>\n",
       "      <td>No</td>\n",
       "      <td>No</td>\n",
       "      <td>No</td>\n",
       "      <td>Yes</td>\n",
       "      <td>No</td>\n",
       "      <td>Fiber optic</td>\n",
       "      <td>No</td>\n",
       "      <td>No</td>\n",
       "      <td>No</td>\n",
       "      <td>Yes</td>\n",
       "      <td>No</td>\n",
       "      <td>No</td>\n",
       "      <td>Month-to-month</td>\n",
       "      <td>Yes</td>\n",
       "      <td>Electronic check</td>\n",
       "    </tr>\n",
       "    <tr>\n",
       "      <th>3</th>\n",
       "      <td>32</td>\n",
       "      <td>79.30</td>\n",
       "      <td>2570.00</td>\n",
       "      <td>Female</td>\n",
       "      <td>Yes</td>\n",
       "      <td>Yes</td>\n",
       "      <td>No</td>\n",
       "      <td>Yes</td>\n",
       "      <td>Yes</td>\n",
       "      <td>Fiber optic</td>\n",
       "      <td>No</td>\n",
       "      <td>No</td>\n",
       "      <td>Yes</td>\n",
       "      <td>No</td>\n",
       "      <td>No</td>\n",
       "      <td>No</td>\n",
       "      <td>Month-to-month</td>\n",
       "      <td>No</td>\n",
       "      <td>Mailed check</td>\n",
       "    </tr>\n",
       "    <tr>\n",
       "      <th>4</th>\n",
       "      <td>60</td>\n",
       "      <td>115.25</td>\n",
       "      <td>6758.45</td>\n",
       "      <td>Female</td>\n",
       "      <td>No</td>\n",
       "      <td>Yes</td>\n",
       "      <td>Yes</td>\n",
       "      <td>Yes</td>\n",
       "      <td>Yes</td>\n",
       "      <td>Fiber optic</td>\n",
       "      <td>Yes</td>\n",
       "      <td>Yes</td>\n",
       "      <td>Yes</td>\n",
       "      <td>Yes</td>\n",
       "      <td>Yes</td>\n",
       "      <td>Yes</td>\n",
       "      <td>Two year</td>\n",
       "      <td>No</td>\n",
       "      <td>Credit card (automatic)</td>\n",
       "    </tr>\n",
       "  </tbody>\n",
       "</table>\n",
       "</div>"
      ],
      "text/plain": [
       "   ClientPeriod  MonthlySpending  TotalSpent     Sex IsSeniorCitizen  \\\n",
       "0            55            19.50     1026.35    Male              No   \n",
       "1            72            25.85     1872.20    Male              No   \n",
       "2             1            75.90       75.90    Male              No   \n",
       "3            32            79.30     2570.00  Female             Yes   \n",
       "4            60           115.25     6758.45  Female              No   \n",
       "\n",
       "  HasPartner HasChild HasPhoneService HasMultiplePhoneNumbers  \\\n",
       "0        Yes      Yes             Yes                      No   \n",
       "1        Yes       No             Yes                     Yes   \n",
       "2         No       No             Yes                      No   \n",
       "3        Yes       No             Yes                     Yes   \n",
       "4        Yes      Yes             Yes                     Yes   \n",
       "\n",
       "  HasInternetService HasOnlineSecurityService      HasOnlineBackup  \\\n",
       "0                 No      No internet service  No internet service   \n",
       "1                 No      No internet service  No internet service   \n",
       "2        Fiber optic                       No                   No   \n",
       "3        Fiber optic                       No                   No   \n",
       "4        Fiber optic                      Yes                  Yes   \n",
       "\n",
       "   HasDeviceProtection HasTechSupportAccess          HasOnlineTV  \\\n",
       "0  No internet service  No internet service  No internet service   \n",
       "1  No internet service  No internet service  No internet service   \n",
       "2                   No                  Yes                   No   \n",
       "3                  Yes                   No                   No   \n",
       "4                  Yes                  Yes                  Yes   \n",
       "\n",
       "  HasMovieSubscription HasContractPhone IsBillingPaperless  \\\n",
       "0  No internet service         One year                 No   \n",
       "1  No internet service         Two year                 No   \n",
       "2                   No   Month-to-month                Yes   \n",
       "3                   No   Month-to-month                 No   \n",
       "4                  Yes         Two year                 No   \n",
       "\n",
       "             PaymentMethod  \n",
       "0             Mailed check  \n",
       "1  Credit card (automatic)  \n",
       "2         Electronic check  \n",
       "3             Mailed check  \n",
       "4  Credit card (automatic)  "
      ]
     },
     "execution_count": 13,
     "metadata": {},
     "output_type": "execute_result"
    }
   ],
   "source": [
    "X.head()"
   ]
  },
  {
   "cell_type": "code",
   "execution_count": 14,
   "id": "b11a9459",
   "metadata": {},
   "outputs": [],
   "source": [
    "X_train, X_val, y_train, y_val = train_test_split(X, y, train_size=0.8, random_state=42)"
   ]
  },
  {
   "cell_type": "code",
   "execution_count": 15,
   "id": "4b035386",
   "metadata": {},
   "outputs": [
    {
     "data": {
      "text/plain": [
       "((4225, 19), (1057, 19))"
      ]
     },
     "execution_count": 15,
     "metadata": {},
     "output_type": "execute_result"
    }
   ],
   "source": [
    "X_train.shape, X_val.shape"
   ]
  },
  {
   "cell_type": "code",
   "execution_count": 16,
   "id": "db97bcfa",
   "metadata": {},
   "outputs": [],
   "source": [
    "X_origin = data.iloc[:, :-1]"
   ]
  },
  {
   "cell_type": "code",
   "execution_count": 17,
   "id": "c22abd11",
   "metadata": {},
   "outputs": [
    {
     "data": {
      "text/html": [
       "<div>\n",
       "<style scoped>\n",
       "    .dataframe tbody tr th:only-of-type {\n",
       "        vertical-align: middle;\n",
       "    }\n",
       "\n",
       "    .dataframe tbody tr th {\n",
       "        vertical-align: top;\n",
       "    }\n",
       "\n",
       "    .dataframe thead th {\n",
       "        text-align: right;\n",
       "    }\n",
       "</style>\n",
       "<table border=\"1\" class=\"dataframe\">\n",
       "  <thead>\n",
       "    <tr style=\"text-align: right;\">\n",
       "      <th></th>\n",
       "      <th>ClientPeriod</th>\n",
       "      <th>MonthlySpending</th>\n",
       "      <th>TotalSpent</th>\n",
       "      <th>Sex</th>\n",
       "      <th>IsSeniorCitizen</th>\n",
       "      <th>HasPartner</th>\n",
       "      <th>HasChild</th>\n",
       "      <th>HasPhoneService</th>\n",
       "      <th>HasMultiplePhoneNumbers</th>\n",
       "      <th>HasInternetService</th>\n",
       "      <th>HasOnlineSecurityService</th>\n",
       "      <th>HasOnlineBackup</th>\n",
       "      <th>HasDeviceProtection</th>\n",
       "      <th>HasTechSupportAccess</th>\n",
       "      <th>HasOnlineTV</th>\n",
       "      <th>HasMovieSubscription</th>\n",
       "      <th>HasContractPhone</th>\n",
       "      <th>IsBillingPaperless</th>\n",
       "      <th>PaymentMethod</th>\n",
       "    </tr>\n",
       "  </thead>\n",
       "  <tbody>\n",
       "    <tr>\n",
       "      <th>0</th>\n",
       "      <td>55</td>\n",
       "      <td>19.50</td>\n",
       "      <td>1026.35</td>\n",
       "      <td>Male</td>\n",
       "      <td>No</td>\n",
       "      <td>Yes</td>\n",
       "      <td>Yes</td>\n",
       "      <td>Yes</td>\n",
       "      <td>No</td>\n",
       "      <td>No</td>\n",
       "      <td>No internet service</td>\n",
       "      <td>No internet service</td>\n",
       "      <td>No internet service</td>\n",
       "      <td>No internet service</td>\n",
       "      <td>No internet service</td>\n",
       "      <td>No internet service</td>\n",
       "      <td>One year</td>\n",
       "      <td>No</td>\n",
       "      <td>Mailed check</td>\n",
       "    </tr>\n",
       "    <tr>\n",
       "      <th>1</th>\n",
       "      <td>72</td>\n",
       "      <td>25.85</td>\n",
       "      <td>1872.20</td>\n",
       "      <td>Male</td>\n",
       "      <td>No</td>\n",
       "      <td>Yes</td>\n",
       "      <td>No</td>\n",
       "      <td>Yes</td>\n",
       "      <td>Yes</td>\n",
       "      <td>No</td>\n",
       "      <td>No internet service</td>\n",
       "      <td>No internet service</td>\n",
       "      <td>No internet service</td>\n",
       "      <td>No internet service</td>\n",
       "      <td>No internet service</td>\n",
       "      <td>No internet service</td>\n",
       "      <td>Two year</td>\n",
       "      <td>No</td>\n",
       "      <td>Credit card (automatic)</td>\n",
       "    </tr>\n",
       "    <tr>\n",
       "      <th>2</th>\n",
       "      <td>1</td>\n",
       "      <td>75.90</td>\n",
       "      <td>75.90</td>\n",
       "      <td>Male</td>\n",
       "      <td>No</td>\n",
       "      <td>No</td>\n",
       "      <td>No</td>\n",
       "      <td>Yes</td>\n",
       "      <td>No</td>\n",
       "      <td>Fiber optic</td>\n",
       "      <td>No</td>\n",
       "      <td>No</td>\n",
       "      <td>No</td>\n",
       "      <td>Yes</td>\n",
       "      <td>No</td>\n",
       "      <td>No</td>\n",
       "      <td>Month-to-month</td>\n",
       "      <td>Yes</td>\n",
       "      <td>Electronic check</td>\n",
       "    </tr>\n",
       "    <tr>\n",
       "      <th>3</th>\n",
       "      <td>32</td>\n",
       "      <td>79.30</td>\n",
       "      <td>2570.00</td>\n",
       "      <td>Female</td>\n",
       "      <td>Yes</td>\n",
       "      <td>Yes</td>\n",
       "      <td>No</td>\n",
       "      <td>Yes</td>\n",
       "      <td>Yes</td>\n",
       "      <td>Fiber optic</td>\n",
       "      <td>No</td>\n",
       "      <td>No</td>\n",
       "      <td>Yes</td>\n",
       "      <td>No</td>\n",
       "      <td>No</td>\n",
       "      <td>No</td>\n",
       "      <td>Month-to-month</td>\n",
       "      <td>No</td>\n",
       "      <td>Mailed check</td>\n",
       "    </tr>\n",
       "    <tr>\n",
       "      <th>4</th>\n",
       "      <td>60</td>\n",
       "      <td>115.25</td>\n",
       "      <td>6758.45</td>\n",
       "      <td>Female</td>\n",
       "      <td>No</td>\n",
       "      <td>Yes</td>\n",
       "      <td>Yes</td>\n",
       "      <td>Yes</td>\n",
       "      <td>Yes</td>\n",
       "      <td>Fiber optic</td>\n",
       "      <td>Yes</td>\n",
       "      <td>Yes</td>\n",
       "      <td>Yes</td>\n",
       "      <td>Yes</td>\n",
       "      <td>Yes</td>\n",
       "      <td>Yes</td>\n",
       "      <td>Two year</td>\n",
       "      <td>No</td>\n",
       "      <td>Credit card (automatic)</td>\n",
       "    </tr>\n",
       "  </tbody>\n",
       "</table>\n",
       "</div>"
      ],
      "text/plain": [
       "   ClientPeriod  MonthlySpending  TotalSpent     Sex IsSeniorCitizen  \\\n",
       "0            55            19.50     1026.35    Male              No   \n",
       "1            72            25.85     1872.20    Male              No   \n",
       "2             1            75.90       75.90    Male              No   \n",
       "3            32            79.30     2570.00  Female             Yes   \n",
       "4            60           115.25     6758.45  Female              No   \n",
       "\n",
       "  HasPartner HasChild HasPhoneService HasMultiplePhoneNumbers  \\\n",
       "0        Yes      Yes             Yes                      No   \n",
       "1        Yes       No             Yes                     Yes   \n",
       "2         No       No             Yes                      No   \n",
       "3        Yes       No             Yes                     Yes   \n",
       "4        Yes      Yes             Yes                     Yes   \n",
       "\n",
       "  HasInternetService HasOnlineSecurityService      HasOnlineBackup  \\\n",
       "0                 No      No internet service  No internet service   \n",
       "1                 No      No internet service  No internet service   \n",
       "2        Fiber optic                       No                   No   \n",
       "3        Fiber optic                       No                   No   \n",
       "4        Fiber optic                      Yes                  Yes   \n",
       "\n",
       "   HasDeviceProtection HasTechSupportAccess          HasOnlineTV  \\\n",
       "0  No internet service  No internet service  No internet service   \n",
       "1  No internet service  No internet service  No internet service   \n",
       "2                   No                  Yes                   No   \n",
       "3                  Yes                   No                   No   \n",
       "4                  Yes                  Yes                  Yes   \n",
       "\n",
       "  HasMovieSubscription HasContractPhone IsBillingPaperless  \\\n",
       "0  No internet service         One year                 No   \n",
       "1  No internet service         Two year                 No   \n",
       "2                   No   Month-to-month                Yes   \n",
       "3                   No   Month-to-month                 No   \n",
       "4                  Yes         Two year                 No   \n",
       "\n",
       "             PaymentMethod  \n",
       "0             Mailed check  \n",
       "1  Credit card (automatic)  \n",
       "2         Electronic check  \n",
       "3             Mailed check  \n",
       "4  Credit card (automatic)  "
      ]
     },
     "execution_count": 17,
     "metadata": {},
     "output_type": "execute_result"
    }
   ],
   "source": [
    "X_origin.head()"
   ]
  },
  {
   "cell_type": "code",
   "execution_count": 18,
   "id": "b45437b0",
   "metadata": {},
   "outputs": [],
   "source": [
    "from sklearn.compose import ColumnTransformer "
   ]
  },
  {
   "cell_type": "markdown",
   "id": "98e6d645",
   "metadata": {},
   "source": [
    "Нормируем числовые признаки и закодируем категориальные"
   ]
  },
  {
   "cell_type": "code",
   "execution_count": 19,
   "id": "6c179ca2",
   "metadata": {},
   "outputs": [],
   "source": [
    "transformer = ColumnTransformer(transformers=[\n",
    "    ('num', StandardScaler(), numeric_columns),\n",
    "    ('cat', OneHotEncoder(drop='first', handle_unknown='ignore', sparse=False), categorical_columns)\n",
    "], remainder='passthrough')\n",
    "\n",
    "pipeline = make_pipeline(transformer, LogisticRegression(random_state=42, max_iter=1000))\n"
   ]
  },
  {
   "cell_type": "markdown",
   "id": "f165a197",
   "metadata": {},
   "source": [
    "подбираем гиперпараметры"
   ]
  },
  {
   "cell_type": "code",
   "execution_count": 20,
   "id": "7715ff8e",
   "metadata": {},
   "outputs": [],
   "source": [
    "params = {'logisticregression__C': [100, 10, 1, 0.1, 0.01, 0.001]}"
   ]
  },
  {
   "cell_type": "code",
   "execution_count": 21,
   "id": "d8c1049c",
   "metadata": {},
   "outputs": [
    {
     "data": {
      "text/plain": [
       "GridSearchCV(cv=5,\n",
       "             estimator=Pipeline(steps=[('columntransformer',\n",
       "                                        ColumnTransformer(remainder='passthrough',\n",
       "                                                          transformers=[('num',\n",
       "                                                                         StandardScaler(),\n",
       "                                                                         ['ClientPeriod',\n",
       "                                                                          'MonthlySpending',\n",
       "                                                                          'TotalSpent']),\n",
       "                                                                        ('cat',\n",
       "                                                                         OneHotEncoder(drop='first',\n",
       "                                                                                       handle_unknown='ignore',\n",
       "                                                                                       sparse=False),\n",
       "                                                                         ['Sex',\n",
       "                                                                          'IsSeniorCitizen',\n",
       "                                                                          'HasPartner',\n",
       "                                                                          'HasChild',\n",
       "                                                                          'HasPhoneService',\n",
       "                                                                          'HasMultiplePhone...\n",
       "                                                                          'HasInternetService',\n",
       "                                                                          'HasOnlineSecurityService',\n",
       "                                                                          'HasOnlineBackup',\n",
       "                                                                          'HasDeviceProtection',\n",
       "                                                                          'HasTechSupportAccess',\n",
       "                                                                          'HasOnlineTV',\n",
       "                                                                          'HasMovieSubscription',\n",
       "                                                                          'HasContractPhone',\n",
       "                                                                          'IsBillingPaperless',\n",
       "                                                                          'PaymentMethod'])])),\n",
       "                                       ('logisticregression',\n",
       "                                        LogisticRegression(max_iter=1000,\n",
       "                                                           random_state=42))]),\n",
       "             param_grid={'logisticregression__C': [100, 10, 1, 0.1, 0.01,\n",
       "                                                   0.001]},\n",
       "             scoring='roc_auc')"
      ]
     },
     "execution_count": 21,
     "metadata": {},
     "output_type": "execute_result"
    }
   ],
   "source": [
    "grid_search = GridSearchCV(pipeline, params, cv=5, scoring='roc_auc')\n",
    "grid_search.fit(X_train, y_train)"
   ]
  },
  {
   "cell_type": "code",
   "execution_count": 22,
   "id": "695a42c2",
   "metadata": {},
   "outputs": [
    {
     "name": "stdout",
     "output_type": "stream",
     "text": [
      "{'logisticregression__C': 100}\n",
      "0.8488276348405233\n"
     ]
    }
   ],
   "source": [
    "print(grid_search.best_params_)\n",
    "print(grid_search.best_score_)"
   ]
  },
  {
   "cell_type": "code",
   "execution_count": 23,
   "id": "f9e54518",
   "metadata": {},
   "outputs": [],
   "source": [
    "proba_train = grid_search.predict_proba(X_train)[:, 1]\n",
    "proba_val = grid_search.predict_proba(X_val)[:, 1]"
   ]
  },
  {
   "cell_type": "code",
   "execution_count": 24,
   "id": "c6f98ef1",
   "metadata": {},
   "outputs": [],
   "source": [
    "from sklearn.metrics import roc_curve"
   ]
  },
  {
   "cell_type": "code",
   "execution_count": 25,
   "id": "7f16578a",
   "metadata": {},
   "outputs": [
    {
     "data": {
      "text/plain": [
       "[<matplotlib.lines.Line2D at 0x1fdd498e1f0>]"
      ]
     },
     "execution_count": 25,
     "metadata": {},
     "output_type": "execute_result"
    },
    {
     "data": {
      "image/png": "[encoded data removed]",
      "text/plain": [
       "<Figure size 720x504 with 1 Axes>"
      ]
     },
     "metadata": {
      "needs_background": "light"
     },
     "output_type": "display_data"
    }
   ],
   "source": [
    "train_auc = roc_auc_score(y_train, proba_train)\n",
    "test_auc = roc_auc_score(y_val, proba_val)\n",
    "\n",
    "plt.figure(figsize=(10,7))\n",
    "plt.plot(*roc_curve(y_train, proba_train)[:2], label='train AUC={:.4f}'.format(train_auc))\n",
    "plt.plot(*roc_curve(y_val, proba_val)[:2], label='test AUC={:.4f}'.format(test_auc))\n",
    "legend_box = plt.legend(fontsize='large', framealpha=1).get_frame()\n",
    "legend_box.set_facecolor(\"white\")\n",
    "legend_box.set_edgecolor(\"black\")\n",
    "plt.plot(np.linspace(0,1,100), np.linspace(0,1,100))\n"
   ]
  },
  {
   "cell_type": "markdown",
   "id": "20e5fe77",
   "metadata": {},
   "source": [
    "На тесте получили не самый хороший результат test AUC = 0.8269"
   ]
  },
  {
   "cell_type": "markdown",
   "id": "8d77ee11",
   "metadata": {},
   "source": [
    "Протестируем как работает модель Random Forest"
   ]
  },
  {
   "cell_type": "code",
   "execution_count": 26,
   "id": "eacf90d9",
   "metadata": {},
   "outputs": [],
   "source": [
    "from sklearn.ensemble import RandomForestClassifier\n",
    "from sklearn.model_selection import cross_val_score\n",
    "from sklearn.model_selection import KFold\n",
    "from sklearn.metrics import roc_auc_score"
   ]
  },
  {
   "cell_type": "code",
   "execution_count": 28,
   "id": "bbe8eb13",
   "metadata": {},
   "outputs": [],
   "source": [
    "transformer_new = ColumnTransformer(transformers=[\n",
    "    ('num', StandardScaler(), numeric_columns),\n",
    "    ('cat', OneHotEncoder(drop='first', handle_unknown='ignore', sparse=False), categorical_columns)\n",
    "], remainder='passthrough')"
   ]
  },
  {
   "cell_type": "code",
   "execution_count": 29,
   "id": "3f424bb7",
   "metadata": {},
   "outputs": [],
   "source": [
    "pipeline_forest = make_pipeline(transformer_new, RandomForestClassifier(random_state=123))"
   ]
  },
  {
   "cell_type": "code",
   "execution_count": 30,
   "id": "a3d93ade",
   "metadata": {},
   "outputs": [],
   "source": [
    "forest_params = {'randomforestclassifier__max_depth': range(1,10,1),\n",
    "                 'randomforestclassifier__max_features': [None, \"sqrt\", \"log2\"],\n",
    "                 'randomforestclassifier__n_estimators': [100, 150, 200],\n",
    "                 'randomforestclassifier__min_samples_leaf': range(2,8,1),\n",
    "                 'randomforestclassifier__min_samples_split': [3,5,10]}"
   ]
  },
  {
   "cell_type": "code",
   "execution_count": 31,
   "id": "25691e41",
   "metadata": {},
   "outputs": [],
   "source": [
    "from sklearn.model_selection import RandomizedSearchCV"
   ]
  },
  {
   "cell_type": "code",
   "execution_count": 32,
   "id": "7117f385",
   "metadata": {},
   "outputs": [],
   "source": [
    "forest_CV = RandomizedSearchCV(pipeline_forest, forest_params, cv=5, random_state=23, scoring='roc_auc', n_iter=15)"
   ]
  },
  {
   "cell_type": "code",
   "execution_count": 33,
   "id": "3683af6c",
   "metadata": {},
   "outputs": [
    {
     "name": "stdout",
     "output_type": "stream",
     "text": [
      "{'randomforestclassifier__n_estimators': 100, 'randomforestclassifier__min_samples_split': 5, 'randomforestclassifier__min_samples_leaf': 6, 'randomforestclassifier__max_features': 'log2', 'randomforestclassifier__max_depth': 8}\n",
      "0.8484028655764636\n"
     ]
    }
   ],
   "source": [
    "forest_CV.fit(X_train, y_train)\n",
    "print(forest_CV.best_params_)\n",
    "print(forest_CV.best_score_)"
   ]
  },
  {
   "cell_type": "code",
   "execution_count": 34,
   "id": "f97ba619",
   "metadata": {},
   "outputs": [],
   "source": [
    "forest_proba_train = forest_CV.predict_proba(X_train)[:, 1]\n",
    "forest_proba_val = forest_CV.predict_proba(X_val)[:, 1]"
   ]
  },
  {
   "cell_type": "code",
   "execution_count": 35,
   "id": "37e927db",
   "metadata": {},
   "outputs": [
    {
     "data": {
      "text/plain": [
       "[<matplotlib.lines.Line2D at 0x1fdd3f1f1f0>]"
      ]
     },
     "execution_count": 35,
     "metadata": {},
     "output_type": "execute_result"
    },
    {
     "data": {
      "image/png": "[encoded data removed]",
      "text/plain": [
       "<Figure size 720x504 with 1 Axes>"
      ]
     },
     "metadata": {
      "needs_background": "light"
     },
     "output_type": "display_data"
    }
   ],
   "source": [
    "train_auc = roc_auc_score(y_train, forest_proba_train)\n",
    "test_auc = roc_auc_score(y_val, forest_proba_val)\n",
    "\n",
    "plt.figure(figsize=(10,7))\n",
    "plt.plot(*roc_curve(y_train,forest_proba_train)[:2], label='train AUC={:.4f}'.format(train_auc))\n",
    "plt.plot(*roc_curve(y_val, forest_proba_val)[:2], label='test AUC={:.4f}'.format(test_auc))\n",
    "legend_box = plt.legend(fontsize='large', framealpha=1).get_frame()\n",
    "legend_box.set_facecolor(\"white\")\n",
    "legend_box.set_edgecolor(\"black\")\n",
    "plt.plot(np.linspace(0,1,100), np.linspace(0,1,100))"
   ]
  },
  {
   "cell_type": "markdown",
   "id": "74afb32a",
   "metadata": {},
   "source": [
    "На тесте даже получили результат немного хуже чем в логистической регрессии test AUC = 0.8252"
   ]
  },
  {
   "cell_type": "markdown",
   "id": "31eb11eb",
   "metadata": {},
   "source": [
    "Попробуем еще обучить дерево с лучшими подобранными параметрами"
   ]
  },
  {
   "cell_type": "code",
   "execution_count": 63,
   "id": "94ee7b5c",
   "metadata": {},
   "outputs": [],
   "source": [
    "forest_new_model = RandomForestClassifier(n_estimators=100, \n",
    "                                          min_samples_split=5, \n",
    "                                          min_samples_leaf=6, \n",
    "                                          max_features='log2', \n",
    "                                          max_depth=8)\n",
    "pipeline_forest_new = make_pipeline(transformer_new, forest_new_model)\n",
    "pipeline_forest_new.fit(X_train, y_train)\n",
    "forest_new_proba_train = pipeline_forest_new.predict_proba(X_train)[:, 1]\n",
    "forest_new_proba_val = pipeline_forest_new.predict_proba(X_val)[:, 1]"
   ]
  },
  {
   "cell_type": "code",
   "execution_count": 64,
   "id": "107d2264",
   "metadata": {},
   "outputs": [
    {
     "data": {
      "text/plain": [
       "[<matplotlib.lines.Line2D at 0x1fdd87a2640>]"
      ]
     },
     "execution_count": 64,
     "metadata": {},
     "output_type": "execute_result"
    },
    {
     "data": {
      "image/png": "[encoded data removed]",
      "text/plain": [
       "<Figure size 720x504 with 1 Axes>"
      ]
     },
     "metadata": {
      "needs_background": "light"
     },
     "output_type": "display_data"
    }
   ],
   "source": [
    "train_auc = roc_auc_score(y_train, forest_new_proba_train)\n",
    "test_auc = roc_auc_score(y_val, forest_new_proba_val)\n",
    "\n",
    "plt.figure(figsize=(10,7))\n",
    "plt.plot(*roc_curve(y_train,forest_new_proba_train)[:2], label='train AUC={:.4f}'.format(train_auc))\n",
    "plt.plot(*roc_curve(y_val, forest_new_proba_val)[:2], label='test AUC={:.4f}'.format(test_auc))\n",
    "legend_box = plt.legend(fontsize='large', framealpha=1).get_frame()\n",
    "legend_box.set_facecolor(\"white\")\n",
    "legend_box.set_edgecolor(\"black\")\n",
    "plt.plot(np.linspace(0,1,100), np.linspace(0,1,100))"
   ]
  },
  {
   "cell_type": "markdown",
   "id": "8a65199e",
   "metadata": {},
   "source": [
    "Результат улучшить не удалось test AUC = 0.8249"
   ]
  },
  {
   "cell_type": "markdown",
   "id": "060e050a",
   "metadata": {},
   "source": [
    "Применим градиентный бустинг"
   ]
  },
  {
   "cell_type": "code",
   "execution_count": 37,
   "id": "604bac25",
   "metadata": {},
   "outputs": [],
   "source": [
    "boosting_model = CatBoostClassifier(n_estimators=200, cat_features=categorical_columns)"
   ]
  },
  {
   "cell_type": "code",
   "execution_count": 38,
   "id": "9c9ed6ea",
   "metadata": {},
   "outputs": [
    {
     "name": "stdout",
     "output_type": "stream",
     "text": [
      "Learning rate set to 0.083391\n",
      "0:\tlearn: 0.6382749\ttotal: 241ms\tremaining: 48.1s\n",
      "1:\tlearn: 0.5970973\ttotal: 265ms\tremaining: 26.3s\n",
      "2:\tlearn: 0.5610080\ttotal: 295ms\tremaining: 19.4s\n",
      "3:\tlearn: 0.5329491\ttotal: 323ms\tremaining: 15.8s\n",
      "4:\tlearn: 0.5112068\ttotal: 352ms\tremaining: 13.7s\n",
      "5:\tlearn: 0.4930985\ttotal: 379ms\tremaining: 12.3s\n",
      "6:\tlearn: 0.4800850\ttotal: 403ms\tremaining: 11.1s\n",
      "7:\tlearn: 0.4681540\ttotal: 431ms\tremaining: 10.3s\n",
      "8:\tlearn: 0.4583285\ttotal: 460ms\tremaining: 9.77s\n",
      "9:\tlearn: 0.4494858\ttotal: 490ms\tremaining: 9.31s\n",
      "10:\tlearn: 0.4439489\ttotal: 515ms\tremaining: 8.85s\n",
      "11:\tlearn: 0.4371125\ttotal: 544ms\tremaining: 8.53s\n",
      "12:\tlearn: 0.4311122\ttotal: 575ms\tremaining: 8.27s\n",
      "13:\tlearn: 0.4264039\ttotal: 604ms\tremaining: 8.02s\n",
      "14:\tlearn: 0.4222915\ttotal: 632ms\tremaining: 7.8s\n",
      "15:\tlearn: 0.4190003\ttotal: 661ms\tremaining: 7.6s\n",
      "16:\tlearn: 0.4153313\ttotal: 690ms\tremaining: 7.42s\n",
      "17:\tlearn: 0.4132986\ttotal: 717ms\tremaining: 7.25s\n",
      "18:\tlearn: 0.4116653\ttotal: 745ms\tremaining: 7.09s\n",
      "19:\tlearn: 0.4096251\ttotal: 772ms\tremaining: 6.95s\n",
      "20:\tlearn: 0.4075427\ttotal: 802ms\tremaining: 6.84s\n",
      "21:\tlearn: 0.4050433\ttotal: 831ms\tremaining: 6.72s\n",
      "22:\tlearn: 0.4040113\ttotal: 859ms\tremaining: 6.61s\n",
      "23:\tlearn: 0.4021203\ttotal: 894ms\tremaining: 6.55s\n",
      "24:\tlearn: 0.4007424\ttotal: 924ms\tremaining: 6.47s\n",
      "25:\tlearn: 0.4000701\ttotal: 953ms\tremaining: 6.37s\n",
      "26:\tlearn: 0.3991902\ttotal: 984ms\tremaining: 6.31s\n",
      "27:\tlearn: 0.3987400\ttotal: 999ms\tremaining: 6.13s\n",
      "28:\tlearn: 0.3972540\ttotal: 1.03s\tremaining: 6.06s\n",
      "29:\tlearn: 0.3954624\ttotal: 1.05s\tremaining: 5.97s\n",
      "30:\tlearn: 0.3944855\ttotal: 1.08s\tremaining: 5.9s\n",
      "31:\tlearn: 0.3940795\ttotal: 1.11s\tremaining: 5.84s\n",
      "32:\tlearn: 0.3924122\ttotal: 1.14s\tremaining: 5.78s\n",
      "33:\tlearn: 0.3922152\ttotal: 1.17s\tremaining: 5.7s\n",
      "34:\tlearn: 0.3909376\ttotal: 1.2s\tremaining: 5.64s\n",
      "35:\tlearn: 0.3901188\ttotal: 1.22s\tremaining: 5.58s\n",
      "36:\tlearn: 0.3898887\ttotal: 1.24s\tremaining: 5.48s\n",
      "37:\tlearn: 0.3886369\ttotal: 1.27s\tremaining: 5.43s\n",
      "38:\tlearn: 0.3885686\ttotal: 1.28s\tremaining: 5.31s\n",
      "39:\tlearn: 0.3875534\ttotal: 1.32s\tremaining: 5.27s\n",
      "40:\tlearn: 0.3870499\ttotal: 1.34s\tremaining: 5.21s\n",
      "41:\tlearn: 0.3864759\ttotal: 1.37s\tremaining: 5.17s\n",
      "42:\tlearn: 0.3857375\ttotal: 1.41s\tremaining: 5.13s\n",
      "43:\tlearn: 0.3854573\ttotal: 1.43s\tremaining: 5.06s\n",
      "44:\tlearn: 0.3850862\ttotal: 1.46s\tremaining: 5.01s\n",
      "45:\tlearn: 0.3847126\ttotal: 1.48s\tremaining: 4.97s\n",
      "46:\tlearn: 0.3844990\ttotal: 1.51s\tremaining: 4.92s\n",
      "47:\tlearn: 0.3842831\ttotal: 1.54s\tremaining: 4.87s\n",
      "48:\tlearn: 0.3834734\ttotal: 1.57s\tremaining: 4.83s\n",
      "49:\tlearn: 0.3829007\ttotal: 1.6s\tremaining: 4.79s\n",
      "50:\tlearn: 0.3824525\ttotal: 1.62s\tremaining: 4.75s\n",
      "51:\tlearn: 0.3816902\ttotal: 1.65s\tremaining: 4.71s\n",
      "52:\tlearn: 0.3811084\ttotal: 1.68s\tremaining: 4.66s\n",
      "53:\tlearn: 0.3808794\ttotal: 1.71s\tremaining: 4.62s\n",
      "54:\tlearn: 0.3808481\ttotal: 1.73s\tremaining: 4.57s\n",
      "55:\tlearn: 0.3805372\ttotal: 1.76s\tremaining: 4.54s\n",
      "56:\tlearn: 0.3798495\ttotal: 1.79s\tremaining: 4.5s\n",
      "57:\tlearn: 0.3797698\ttotal: 1.82s\tremaining: 4.45s\n",
      "58:\tlearn: 0.3797698\ttotal: 1.83s\tremaining: 4.37s\n",
      "59:\tlearn: 0.3796845\ttotal: 1.84s\tremaining: 4.29s\n",
      "60:\tlearn: 0.3793727\ttotal: 1.87s\tremaining: 4.25s\n",
      "61:\tlearn: 0.3791538\ttotal: 1.9s\tremaining: 4.22s\n",
      "62:\tlearn: 0.3788657\ttotal: 1.92s\tremaining: 4.18s\n",
      "63:\tlearn: 0.3783145\ttotal: 1.96s\tremaining: 4.16s\n",
      "64:\tlearn: 0.3782623\ttotal: 1.97s\tremaining: 4.08s\n",
      "65:\tlearn: 0.3780186\ttotal: 1.99s\tremaining: 4.05s\n",
      "66:\tlearn: 0.3779709\ttotal: 2.01s\tremaining: 3.99s\n",
      "67:\tlearn: 0.3778053\ttotal: 2.04s\tremaining: 3.96s\n",
      "68:\tlearn: 0.3778005\ttotal: 2.05s\tremaining: 3.9s\n",
      "69:\tlearn: 0.3772441\ttotal: 2.08s\tremaining: 3.87s\n",
      "70:\tlearn: 0.3767515\ttotal: 2.11s\tremaining: 3.83s\n",
      "71:\tlearn: 0.3767167\ttotal: 2.12s\tremaining: 3.77s\n",
      "72:\tlearn: 0.3760602\ttotal: 2.15s\tremaining: 3.74s\n",
      "73:\tlearn: 0.3755162\ttotal: 2.18s\tremaining: 3.71s\n",
      "74:\tlearn: 0.3755161\ttotal: 2.19s\tremaining: 3.64s\n",
      "75:\tlearn: 0.3749442\ttotal: 2.21s\tremaining: 3.61s\n",
      "76:\tlearn: 0.3741970\ttotal: 2.24s\tremaining: 3.58s\n",
      "77:\tlearn: 0.3739396\ttotal: 2.27s\tremaining: 3.55s\n",
      "78:\tlearn: 0.3732432\ttotal: 2.3s\tremaining: 3.53s\n",
      "79:\tlearn: 0.3731442\ttotal: 2.33s\tremaining: 3.5s\n",
      "80:\tlearn: 0.3729462\ttotal: 2.36s\tremaining: 3.47s\n",
      "81:\tlearn: 0.3729300\ttotal: 2.37s\tremaining: 3.41s\n",
      "82:\tlearn: 0.3727758\ttotal: 2.4s\tremaining: 3.38s\n",
      "83:\tlearn: 0.3722746\ttotal: 2.43s\tremaining: 3.35s\n",
      "84:\tlearn: 0.3717791\ttotal: 2.46s\tremaining: 3.32s\n",
      "85:\tlearn: 0.3711226\ttotal: 2.49s\tremaining: 3.3s\n",
      "86:\tlearn: 0.3710941\ttotal: 2.5s\tremaining: 3.25s\n",
      "87:\tlearn: 0.3705720\ttotal: 2.53s\tremaining: 3.22s\n",
      "88:\tlearn: 0.3697404\ttotal: 2.56s\tremaining: 3.2s\n",
      "89:\tlearn: 0.3691339\ttotal: 2.61s\tremaining: 3.19s\n",
      "90:\tlearn: 0.3683990\ttotal: 2.65s\tremaining: 3.17s\n",
      "91:\tlearn: 0.3683683\ttotal: 2.66s\tremaining: 3.12s\n",
      "92:\tlearn: 0.3680619\ttotal: 2.69s\tremaining: 3.1s\n",
      "93:\tlearn: 0.3678784\ttotal: 2.76s\tremaining: 3.11s\n",
      "94:\tlearn: 0.3678419\ttotal: 2.79s\tremaining: 3.08s\n",
      "95:\tlearn: 0.3670426\ttotal: 2.82s\tremaining: 3.05s\n",
      "96:\tlearn: 0.3670225\ttotal: 2.83s\tremaining: 3.01s\n",
      "97:\tlearn: 0.3668194\ttotal: 2.86s\tremaining: 2.98s\n",
      "98:\tlearn: 0.3667144\ttotal: 2.89s\tremaining: 2.95s\n",
      "99:\tlearn: 0.3660682\ttotal: 2.92s\tremaining: 2.92s\n",
      "100:\tlearn: 0.3655011\ttotal: 2.96s\tremaining: 2.9s\n",
      "101:\tlearn: 0.3649386\ttotal: 2.99s\tremaining: 2.87s\n",
      "102:\tlearn: 0.3648699\ttotal: 3.01s\tremaining: 2.84s\n",
      "103:\tlearn: 0.3643366\ttotal: 3.04s\tremaining: 2.81s\n",
      "104:\tlearn: 0.3635979\ttotal: 3.08s\tremaining: 2.79s\n",
      "105:\tlearn: 0.3627088\ttotal: 3.11s\tremaining: 2.76s\n",
      "106:\tlearn: 0.3620785\ttotal: 3.15s\tremaining: 2.73s\n",
      "107:\tlearn: 0.3617695\ttotal: 3.18s\tremaining: 2.71s\n",
      "108:\tlearn: 0.3613014\ttotal: 3.21s\tremaining: 2.68s\n",
      "109:\tlearn: 0.3610759\ttotal: 3.24s\tremaining: 2.65s\n",
      "110:\tlearn: 0.3602564\ttotal: 3.27s\tremaining: 2.62s\n",
      "111:\tlearn: 0.3596120\ttotal: 3.3s\tremaining: 2.59s\n",
      "112:\tlearn: 0.3592967\ttotal: 3.33s\tremaining: 2.56s\n",
      "113:\tlearn: 0.3590571\ttotal: 3.36s\tremaining: 2.53s\n",
      "114:\tlearn: 0.3581168\ttotal: 3.39s\tremaining: 2.5s\n",
      "115:\tlearn: 0.3570498\ttotal: 3.42s\tremaining: 2.48s\n",
      "116:\tlearn: 0.3565090\ttotal: 3.45s\tremaining: 2.45s\n",
      "117:\tlearn: 0.3560066\ttotal: 3.48s\tremaining: 2.42s\n",
      "118:\tlearn: 0.3554388\ttotal: 3.51s\tremaining: 2.39s\n",
      "119:\tlearn: 0.3545807\ttotal: 3.54s\tremaining: 2.36s\n",
      "120:\tlearn: 0.3538430\ttotal: 3.57s\tremaining: 2.33s\n",
      "121:\tlearn: 0.3536601\ttotal: 3.6s\tremaining: 2.3s\n",
      "122:\tlearn: 0.3528762\ttotal: 3.63s\tremaining: 2.27s\n",
      "123:\tlearn: 0.3525556\ttotal: 3.66s\tremaining: 2.24s\n",
      "124:\tlearn: 0.3519674\ttotal: 3.69s\tremaining: 2.21s\n",
      "125:\tlearn: 0.3515087\ttotal: 3.72s\tremaining: 2.19s\n",
      "126:\tlearn: 0.3510957\ttotal: 3.75s\tremaining: 2.16s\n",
      "127:\tlearn: 0.3504347\ttotal: 3.78s\tremaining: 2.13s\n",
      "128:\tlearn: 0.3498930\ttotal: 3.81s\tremaining: 2.1s\n",
      "129:\tlearn: 0.3498773\ttotal: 3.84s\tremaining: 2.07s\n",
      "130:\tlearn: 0.3495938\ttotal: 3.87s\tremaining: 2.04s\n",
      "131:\tlearn: 0.3491192\ttotal: 3.9s\tremaining: 2.01s\n",
      "132:\tlearn: 0.3486390\ttotal: 3.93s\tremaining: 1.98s\n",
      "133:\tlearn: 0.3483253\ttotal: 3.96s\tremaining: 1.95s\n",
      "134:\tlearn: 0.3478604\ttotal: 4s\tremaining: 1.92s\n",
      "135:\tlearn: 0.3473139\ttotal: 4.03s\tremaining: 1.9s\n",
      "136:\tlearn: 0.3465742\ttotal: 4.06s\tremaining: 1.87s\n",
      "137:\tlearn: 0.3459269\ttotal: 4.09s\tremaining: 1.84s\n",
      "138:\tlearn: 0.3454692\ttotal: 4.12s\tremaining: 1.81s\n",
      "139:\tlearn: 0.3447342\ttotal: 4.15s\tremaining: 1.78s\n",
      "140:\tlearn: 0.3443835\ttotal: 4.18s\tremaining: 1.75s\n",
      "141:\tlearn: 0.3440180\ttotal: 4.21s\tremaining: 1.72s\n",
      "142:\tlearn: 0.3435210\ttotal: 4.24s\tremaining: 1.69s\n",
      "143:\tlearn: 0.3432139\ttotal: 4.27s\tremaining: 1.66s\n",
      "144:\tlearn: 0.3429666\ttotal: 4.3s\tremaining: 1.63s\n",
      "145:\tlearn: 0.3422666\ttotal: 4.33s\tremaining: 1.6s\n",
      "146:\tlearn: 0.3414246\ttotal: 4.36s\tremaining: 1.57s\n",
      "147:\tlearn: 0.3412905\ttotal: 4.39s\tremaining: 1.54s\n",
      "148:\tlearn: 0.3409735\ttotal: 4.42s\tremaining: 1.51s\n",
      "149:\tlearn: 0.3404462\ttotal: 4.45s\tremaining: 1.48s\n",
      "150:\tlearn: 0.3400577\ttotal: 4.47s\tremaining: 1.45s\n",
      "151:\tlearn: 0.3393906\ttotal: 4.5s\tremaining: 1.42s\n",
      "152:\tlearn: 0.3391789\ttotal: 4.53s\tremaining: 1.39s\n",
      "153:\tlearn: 0.3387415\ttotal: 4.56s\tremaining: 1.36s\n",
      "154:\tlearn: 0.3381412\ttotal: 4.59s\tremaining: 1.33s\n",
      "155:\tlearn: 0.3379839\ttotal: 4.62s\tremaining: 1.3s\n",
      "156:\tlearn: 0.3377456\ttotal: 4.65s\tremaining: 1.27s\n",
      "157:\tlearn: 0.3375700\ttotal: 4.67s\tremaining: 1.24s\n",
      "158:\tlearn: 0.3373653\ttotal: 4.7s\tremaining: 1.21s\n",
      "159:\tlearn: 0.3372423\ttotal: 4.73s\tremaining: 1.18s\n",
      "160:\tlearn: 0.3367989\ttotal: 4.76s\tremaining: 1.15s\n",
      "161:\tlearn: 0.3364328\ttotal: 4.79s\tremaining: 1.12s\n",
      "162:\tlearn: 0.3358108\ttotal: 4.82s\tremaining: 1.09s\n",
      "163:\tlearn: 0.3354695\ttotal: 4.85s\tremaining: 1.06s\n",
      "164:\tlearn: 0.3353998\ttotal: 4.87s\tremaining: 1.03s\n",
      "165:\tlearn: 0.3346514\ttotal: 4.9s\tremaining: 1s\n",
      "166:\tlearn: 0.3344228\ttotal: 4.93s\tremaining: 975ms\n",
      "167:\tlearn: 0.3340192\ttotal: 4.96s\tremaining: 945ms\n",
      "168:\tlearn: 0.3333952\ttotal: 4.99s\tremaining: 916ms\n",
      "169:\tlearn: 0.3333016\ttotal: 5.02s\tremaining: 886ms\n",
      "170:\tlearn: 0.3329148\ttotal: 5.05s\tremaining: 856ms\n",
      "171:\tlearn: 0.3324075\ttotal: 5.08s\tremaining: 827ms\n",
      "172:\tlearn: 0.3319238\ttotal: 5.11s\tremaining: 797ms\n",
      "173:\tlearn: 0.3318120\ttotal: 5.14s\tremaining: 768ms\n",
      "174:\tlearn: 0.3313655\ttotal: 5.16s\tremaining: 738ms\n",
      "175:\tlearn: 0.3308577\ttotal: 5.19s\tremaining: 708ms\n",
      "176:\tlearn: 0.3304127\ttotal: 5.22s\tremaining: 679ms\n",
      "177:\tlearn: 0.3303545\ttotal: 5.25s\tremaining: 649ms\n",
      "178:\tlearn: 0.3302146\ttotal: 5.28s\tremaining: 619ms\n",
      "179:\tlearn: 0.3300223\ttotal: 5.31s\tremaining: 590ms\n",
      "180:\tlearn: 0.3299007\ttotal: 5.34s\tremaining: 560ms\n",
      "181:\tlearn: 0.3297259\ttotal: 5.37s\tremaining: 531ms\n",
      "182:\tlearn: 0.3293485\ttotal: 5.42s\tremaining: 503ms\n",
      "183:\tlearn: 0.3292667\ttotal: 5.46s\tremaining: 474ms\n",
      "184:\tlearn: 0.3288691\ttotal: 5.5s\tremaining: 446ms\n",
      "185:\tlearn: 0.3287437\ttotal: 5.53s\tremaining: 416ms\n",
      "186:\tlearn: 0.3281219\ttotal: 5.57s\tremaining: 387ms\n",
      "187:\tlearn: 0.3280090\ttotal: 5.6s\tremaining: 357ms\n",
      "188:\tlearn: 0.3276785\ttotal: 5.63s\tremaining: 328ms\n",
      "189:\tlearn: 0.3272945\ttotal: 5.66s\tremaining: 298ms\n",
      "190:\tlearn: 0.3269473\ttotal: 5.69s\tremaining: 268ms\n",
      "191:\tlearn: 0.3265503\ttotal: 5.72s\tremaining: 238ms\n",
      "192:\tlearn: 0.3259281\ttotal: 5.75s\tremaining: 209ms\n",
      "193:\tlearn: 0.3258297\ttotal: 5.78s\tremaining: 179ms\n",
      "194:\tlearn: 0.3256763\ttotal: 5.81s\tremaining: 149ms\n",
      "195:\tlearn: 0.3256303\ttotal: 5.84s\tremaining: 119ms\n",
      "196:\tlearn: 0.3247776\ttotal: 5.87s\tremaining: 89.3ms\n",
      "197:\tlearn: 0.3242565\ttotal: 5.89s\tremaining: 59.5ms\n",
      "198:\tlearn: 0.3241518\ttotal: 5.92s\tremaining: 29.8ms\n",
      "199:\tlearn: 0.3231141\ttotal: 5.95s\tremaining: 0us\n"
     ]
    },
    {
     "data": {
      "text/plain": [
       "<catboost.core.CatBoostClassifier at 0x1fdd4ab28b0>"
      ]
     },
     "execution_count": 38,
     "metadata": {},
     "output_type": "execute_result"
    }
   ],
   "source": [
    "boosting_model.fit(X_train, y_train)"
   ]
  },
  {
   "cell_type": "code",
   "execution_count": 39,
   "id": "48d5cf1f",
   "metadata": {},
   "outputs": [],
   "source": [
    "cat_proba_train = boosting_model.predict_proba(X_train)[:, 1]\n",
    "cat_proba_val = boosting_model.predict_proba(X_val)[:, 1]"
   ]
  },
  {
   "cell_type": "code",
   "execution_count": 42,
   "id": "e354bb62",
   "metadata": {},
   "outputs": [
    {
     "data": {
      "text/plain": [
       "[<matplotlib.lines.Line2D at 0x1fdd6eb9dc0>]"
      ]
     },
     "execution_count": 42,
     "metadata": {},
     "output_type": "execute_result"
    },
    {
     "data": {
      "image/png": "[encoded data removed]",
      "text/plain": [
       "<Figure size 720x504 with 1 Axes>"
      ]
     },
     "metadata": {
      "needs_background": "light"
     },
     "output_type": "display_data"
    }
   ],
   "source": [
    "train_auc = roc_auc_score(y_train, cat_proba_train)\n",
    "test_auc = roc_auc_score(y_val, cat_proba_val)\n",
    "\n",
    "plt.figure(figsize=(10,7))\n",
    "plt.plot(*roc_curve(y_train, cat_proba_train)[:2], label='train AUC={:.4f}'.format(train_auc))\n",
    "plt.plot(*roc_curve(y_val, cat_proba_val)[:2], label='test AUC={:.4f}'.format(test_auc))\n",
    "legend_box = plt.legend(fontsize='large', framealpha=1).get_frame()\n",
    "legend_box.set_facecolor(\"white\")\n",
    "legend_box.set_edgecolor(\"black\")\n",
    "plt.plot(np.linspace(0,1,100), np.linspace(0,1,100))\n"
   ]
  },
  {
   "cell_type": "markdown",
   "id": "b38c4cbd",
   "metadata": {},
   "source": [
    "На тесте опять получили не самый лучший результат test AUC = 0.8228. Подберем гиперпараметры: learning rate и количество деревьев"
   ]
  },
  {
   "cell_type": "code",
   "execution_count": 43,
   "id": "2f9a194b",
   "metadata": {},
   "outputs": [],
   "source": [
    "catboost_model_new = CatBoostClassifier(random_state=1234)"
   ]
  },
  {
   "cell_type": "code",
   "execution_count": 44,
   "id": "0a55ccb8",
   "metadata": {},
   "outputs": [],
   "source": [
    "parameters = {'learning_rate': [.3, .2, .1],\n",
    "             'iterations': [50, 100, 200]}"
   ]
  },
  {
   "cell_type": "code",
   "execution_count": 45,
   "id": "74e1ad06",
   "metadata": {},
   "outputs": [
    {
     "name": "stdout",
     "output_type": "stream",
     "text": [
      "{'iterations': 50, 'learning_rate': 0.2}\n",
      "0.849201291792743\n"
     ]
    }
   ],
   "source": [
    "grid_search_catboost = GridSearchCV(catboost_model_new, parameters, cv=5, scoring='roc_auc')\n",
    "\n",
    "grid_search_catboost.fit(X_train, y_train, cat_features=categorical_columns, verbose=False)\n",
    "\n",
    "print(grid_search_catboost.best_params_)\n",
    "print(grid_search_catboost.best_score_)"
   ]
  },
  {
   "cell_type": "code",
   "execution_count": 46,
   "id": "77310e13",
   "metadata": {},
   "outputs": [],
   "source": [
    "cat_proba_train_new = grid_search_catboost.predict_proba(X_train)[:, 1]\n",
    "cat_proba_val_new = grid_search_catboost.predict_proba(X_val)[:, 1]"
   ]
  },
  {
   "cell_type": "code",
   "execution_count": 47,
   "id": "462b62a6",
   "metadata": {},
   "outputs": [
    {
     "data": {
      "text/plain": [
       "[<matplotlib.lines.Line2D at 0x1fdd6efa520>]"
      ]
     },
     "execution_count": 47,
     "metadata": {},
     "output_type": "execute_result"
    },
    {
     "data": {
      "image/png": "[encoded data removed]",
      "text/plain": [
       "<Figure size 720x504 with 1 Axes>"
      ]
     },
     "metadata": {
      "needs_background": "light"
     },
     "output_type": "display_data"
    }
   ],
   "source": [
    "train_auc = roc_auc_score(y_train, cat_proba_train_new)\n",
    "test_auc = roc_auc_score(y_val, cat_proba_val_new)\n",
    "\n",
    "plt.figure(figsize=(10,7))\n",
    "plt.plot(*roc_curve(y_train, cat_proba_train_new)[:2], label='train AUC={:.4f}'.format(train_auc))\n",
    "plt.plot(*roc_curve(y_val, cat_proba_val_new)[:2], label='test AUC={:.4f}'.format(test_auc))\n",
    "legend_box = plt.legend(fontsize='large', framealpha=1).get_frame()\n",
    "legend_box.set_facecolor(\"white\")\n",
    "legend_box.set_edgecolor(\"black\")\n",
    "plt.plot(np.linspace(0,1,100), np.linspace(0,1,100))"
   ]
  },
  {
   "cell_type": "markdown",
   "id": "d4c2d3ad",
   "metadata": {},
   "source": [
    "На тесте получили опять не самое лучшее предсказание test AUC = 0.8275. Попробуем подобрать и другие параметры "
   ]
  },
  {
   "cell_type": "code",
   "execution_count": 55,
   "id": "dd90eebc",
   "metadata": {},
   "outputs": [],
   "source": [
    "boost_model_new = CatBoostClassifier(loss_function = 'Logloss',\n",
    "                                     cat_features=categorical_columns,\n",
    "                                     bootstrap_type = 'Bayesian',\n",
    "                                     random_seed = 10,\n",
    "                                     verbose=False,\n",
    "                                     eval_metric = 'AUC:hints=skip_train~false',\n",
    "                                     bagging_temperature=1)"
   ]
  },
  {
   "cell_type": "code",
   "execution_count": 56,
   "id": "a27ca641",
   "metadata": {},
   "outputs": [
    {
     "name": "stdout",
     "output_type": "stream",
     "text": [
      "\n",
      "bestTest = 0.8335525937\n",
      "bestIteration = 184\n",
      "\n",
      "0:\tloss: 0.8335526\tbest: 0.8335526 (0)\ttotal: 3.68s\tremaining: 4m 50s\n",
      "\n",
      "bestTest = 0.8335346216\n",
      "bestIteration = 199\n",
      "\n",
      "1:\tloss: 0.8335346\tbest: 0.8335526 (0)\ttotal: 7.46s\tremaining: 4m 50s\n",
      "\n",
      "bestTest = 0.8335597826\n",
      "bestIteration = 198\n",
      "\n",
      "2:\tloss: 0.8335598\tbest: 0.8335598 (2)\ttotal: 11.6s\tremaining: 4m 58s\n",
      "\n",
      "bestTest = 0.8364640844\n",
      "bestIteration = 198\n",
      "\n",
      "3:\tloss: 0.8364641\tbest: 0.8364641 (3)\ttotal: 15.3s\tremaining: 4m 50s\n",
      "\n",
      "bestTest = 0.8374992811\n",
      "bestIteration = 199\n",
      "\n",
      "4:\tloss: 0.8374993\tbest: 0.8374993 (4)\ttotal: 18.9s\tremaining: 4m 43s\n",
      "\n",
      "bestTest = 0.838336784\n",
      "bestIteration = 199\n",
      "\n",
      "5:\tloss: 0.8383368\tbest: 0.8383368 (5)\ttotal: 22.8s\tremaining: 4m 41s\n",
      "\n",
      "bestTest = 0.8378838854\n",
      "bestIteration = 185\n",
      "\n",
      "6:\tloss: 0.8378839\tbest: 0.8383368 (5)\ttotal: 26.4s\tremaining: 4m 35s\n",
      "\n",
      "bestTest = 0.8394223027\n",
      "bestIteration = 194\n",
      "\n",
      "7:\tloss: 0.8394223\tbest: 0.8394223 (7)\ttotal: 30s\tremaining: 4m 30s\n",
      "\n",
      "bestTest = 0.8400369508\n",
      "bestIteration = 199\n",
      "\n",
      "8:\tloss: 0.8400370\tbest: 0.8400370 (8)\ttotal: 33.7s\tremaining: 4m 25s\n",
      "\n",
      "bestTest = 0.8419707557\n",
      "bestIteration = 196\n",
      "\n",
      "9:\tloss: 0.8419708\tbest: 0.8419708 (9)\ttotal: 37.5s\tremaining: 4m 22s\n",
      "\n",
      "bestTest = 0.8405545491\n",
      "bestIteration = 195\n",
      "\n",
      "10:\tloss: 0.8405545\tbest: 0.8419708 (9)\ttotal: 41.2s\tremaining: 4m 18s\n",
      "\n",
      "bestTest = 0.8414028353\n",
      "bestIteration = 188\n",
      "\n",
      "11:\tloss: 0.8414028\tbest: 0.8419708 (9)\ttotal: 45s\tremaining: 4m 14s\n",
      "\n",
      "bestTest = 0.8397889349\n",
      "bestIteration = 150\n",
      "\n",
      "12:\tloss: 0.8397889\tbest: 0.8419708 (9)\ttotal: 48.7s\tremaining: 4m 10s\n",
      "\n",
      "bestTest = 0.8404179607\n",
      "bestIteration = 183\n",
      "\n",
      "13:\tloss: 0.8404180\tbest: 0.8419708 (9)\ttotal: 52.5s\tremaining: 4m 7s\n",
      "\n",
      "bestTest = 0.8426465091\n",
      "bestIteration = 146\n",
      "\n",
      "14:\tloss: 0.8426465\tbest: 0.8426465 (14)\ttotal: 56.3s\tremaining: 4m 3s\n",
      "\n",
      "bestTest = 0.8421576662\n",
      "bestIteration = 197\n",
      "\n",
      "15:\tloss: 0.8421577\tbest: 0.8426465 (14)\ttotal: 1m\tremaining: 4m\n",
      "\n",
      "bestTest = 0.8392605533\n",
      "bestIteration = 122\n",
      "\n",
      "16:\tloss: 0.8392606\tbest: 0.8426465 (14)\ttotal: 1m 3s\tremaining: 3m 56s\n",
      "\n",
      "bestTest = 0.8400513285\n",
      "bestIteration = 199\n",
      "\n",
      "17:\tloss: 0.8400513\tbest: 0.8426465 (14)\ttotal: 1m 7s\tremaining: 3m 53s\n",
      "\n",
      "bestTest = 0.8401411893\n",
      "bestIteration = 168\n",
      "\n",
      "18:\tloss: 0.8401412\tbest: 0.8426465 (14)\ttotal: 1m 11s\tremaining: 3m 49s\n",
      "\n",
      "bestTest = 0.8395049747\n",
      "bestIteration = 85\n",
      "\n",
      "19:\tloss: 0.8395050\tbest: 0.8426465 (14)\ttotal: 1m 15s\tremaining: 3m 46s\n",
      "\n",
      "bestTest = 0.8346884346\n",
      "bestIteration = 293\n",
      "\n",
      "20:\tloss: 0.8346884\tbest: 0.8426465 (14)\ttotal: 1m 20s\tremaining: 3m 46s\n",
      "\n",
      "bestTest = 0.8363634403\n",
      "bestIteration = 299\n",
      "\n",
      "21:\tloss: 0.8363634\tbest: 0.8426465 (14)\ttotal: 1m 26s\tremaining: 3m 46s\n",
      "\n",
      "bestTest = 0.8356445537\n",
      "bestIteration = 288\n",
      "\n",
      "22:\tloss: 0.8356446\tbest: 0.8426465 (14)\ttotal: 1m 31s\tremaining: 3m 46s\n",
      "\n",
      "bestTest = 0.8386710663\n",
      "bestIteration = 299\n",
      "\n",
      "23:\tloss: 0.8386711\tbest: 0.8426465 (14)\ttotal: 1m 36s\tremaining: 3m 46s\n",
      "\n",
      "bestTest = 0.8394546526\n",
      "bestIteration = 289\n",
      "\n",
      "24:\tloss: 0.8394547\tbest: 0.8426465 (14)\ttotal: 1m 42s\tremaining: 3m 45s\n",
      "\n",
      "bestTest = 0.8401771337\n",
      "bestIteration = 298\n",
      "\n",
      "25:\tloss: 0.8401771\tbest: 0.8426465 (14)\ttotal: 1m 47s\tremaining: 3m 43s\n",
      "\n",
      "bestTest = 0.8394618415\n",
      "bestIteration = 299\n",
      "\n",
      "26:\tloss: 0.8394618\tbest: 0.8426465 (14)\ttotal: 1m 53s\tremaining: 3m 42s\n",
      "\n",
      "bestTest = 0.8411799804\n",
      "bestIteration = 247\n",
      "\n",
      "27:\tloss: 0.8411800\tbest: 0.8426465 (14)\ttotal: 1m 58s\tremaining: 3m 40s\n",
      "\n",
      "bestTest = 0.8415394237\n",
      "bestIteration = 279\n",
      "\n",
      "28:\tloss: 0.8415394\tbest: 0.8426465 (14)\ttotal: 2m 4s\tremaining: 3m 38s\n",
      "\n",
      "bestTest = 0.842380521\n",
      "bestIteration = 236\n",
      "\n",
      "29:\tloss: 0.8423805\tbest: 0.8426465 (14)\ttotal: 2m 9s\tremaining: 3m 36s\n",
      "\n",
      "bestTest = 0.8410937141\n",
      "bestIteration = 214\n",
      "\n",
      "30:\tloss: 0.8410937\tbest: 0.8426465 (14)\ttotal: 2m 15s\tremaining: 3m 33s\n",
      "\n",
      "bestTest = 0.8419024615\n",
      "bestIteration = 240\n",
      "\n",
      "31:\tloss: 0.8419025\tbest: 0.8426465 (14)\ttotal: 2m 20s\tremaining: 3m 31s\n",
      "\n",
      "bestTest = 0.8398356625\n",
      "bestIteration = 232\n",
      "\n",
      "32:\tloss: 0.8398357\tbest: 0.8426465 (14)\ttotal: 2m 26s\tremaining: 3m 28s\n",
      "\n",
      "bestTest = 0.8407809984\n",
      "bestIteration = 213\n",
      "\n",
      "33:\tloss: 0.8407810\tbest: 0.8426465 (14)\ttotal: 2m 32s\tremaining: 3m 25s\n",
      "\n",
      "bestTest = 0.8426932367\n",
      "bestIteration = 297\n",
      "\n",
      "34:\tloss: 0.8426932\tbest: 0.8426932 (34)\ttotal: 2m 37s\tremaining: 3m 23s\n",
      "\n",
      "bestTest = 0.8433150736\n",
      "bestIteration = 236\n",
      "\n",
      "35:\tloss: 0.8433151\tbest: 0.8433151 (35)\ttotal: 2m 43s\tremaining: 3m 20s\n",
      "\n",
      "bestTest = 0.8392605533\n",
      "bestIteration = 122\n",
      "\n",
      "36:\tloss: 0.8392606\tbest: 0.8433151 (35)\ttotal: 2m 49s\tremaining: 3m 16s\n",
      "\n",
      "bestTest = 0.8401951058\n",
      "bestIteration = 200\n",
      "\n",
      "37:\tloss: 0.8401951\tbest: 0.8433151 (35)\ttotal: 2m 54s\tremaining: 3m 13s\n",
      "\n",
      "bestTest = 0.8401411893\n",
      "bestIteration = 168\n",
      "\n",
      "38:\tloss: 0.8401412\tbest: 0.8433151 (35)\ttotal: 3m\tremaining: 3m 9s\n",
      "\n",
      "bestTest = 0.8395049747\n",
      "bestIteration = 85\n",
      "\n",
      "39:\tloss: 0.8395050\tbest: 0.8433151 (35)\ttotal: 3m 6s\tremaining: 3m 6s\n",
      "\n",
      "bestTest = 0.8329846733\n",
      "bestIteration = 107\n",
      "\n",
      "40:\tloss: 0.8329847\tbest: 0.8433151 (35)\ttotal: 3m 9s\tremaining: 3m\n",
      "\n",
      "bestTest = 0.8323448643\n",
      "bestIteration = 197\n",
      "\n",
      "41:\tloss: 0.8323449\tbest: 0.8433151 (35)\ttotal: 3m 12s\tremaining: 2m 54s\n",
      "\n",
      "bestTest = 0.8328516793\n",
      "bestIteration = 196\n",
      "\n",
      "42:\tloss: 0.8328517\tbest: 0.8433151 (35)\ttotal: 3m 15s\tremaining: 2m 48s\n",
      "\n",
      "bestTest = 0.8325138026\n",
      "bestIteration = 199\n",
      "\n",
      "43:\tloss: 0.8325138\tbest: 0.8433151 (35)\ttotal: 3m 19s\tremaining: 2m 42s\n",
      "\n",
      "bestTest = 0.8349867725\n",
      "bestIteration = 196\n",
      "\n",
      "44:\tloss: 0.8349868\tbest: 0.8433151 (35)\ttotal: 3m 22s\tremaining: 2m 37s\n",
      "\n",
      "bestTest = 0.8358134921\n",
      "bestIteration = 189\n",
      "\n",
      "45:\tloss: 0.8358135\tbest: 0.8433151 (35)\ttotal: 3m 25s\tremaining: 2m 31s\n",
      "\n",
      "bestTest = 0.8345554405\n",
      "bestIteration = 198\n",
      "\n",
      "46:\tloss: 0.8345554\tbest: 0.8433151 (35)\ttotal: 3m 28s\tremaining: 2m 26s\n",
      "\n",
      "bestTest = 0.8340522199\n",
      "bestIteration = 195\n",
      "\n",
      "47:\tloss: 0.8340522\tbest: 0.8433151 (35)\ttotal: 3m 31s\tremaining: 2m 21s\n",
      "\n",
      "bestTest = 0.8370643547\n",
      "bestIteration = 194\n",
      "\n",
      "48:\tloss: 0.8370644\tbest: 0.8433151 (35)\ttotal: 3m 35s\tremaining: 2m 16s\n",
      "\n",
      "bestTest = 0.8378191856\n",
      "bestIteration = 198\n",
      "\n",
      "49:\tloss: 0.8378192\tbest: 0.8433151 (35)\ttotal: 3m 38s\tremaining: 2m 11s\n",
      "\n",
      "bestTest = 0.8424955429\n",
      "bestIteration = 195\n",
      "\n",
      "50:\tloss: 0.8424955\tbest: 0.8433151 (35)\ttotal: 3m 41s\tremaining: 2m 5s\n",
      "\n",
      "bestTest = 0.8407630262\n",
      "bestIteration = 195\n",
      "\n",
      "51:\tloss: 0.8407630\tbest: 0.8433151 (35)\ttotal: 3m 44s\tremaining: 2m 1s\n",
      "\n",
      "bestTest = 0.8398033126\n",
      "bestIteration = 197\n",
      "\n",
      "52:\tloss: 0.8398033\tbest: 0.8433151 (35)\ttotal: 3m 48s\tremaining: 1m 56s\n",
      "\n",
      "bestTest = 0.8413165689\n",
      "bestIteration = 198\n",
      "\n",
      "53:\tloss: 0.8413166\tbest: 0.8433151 (35)\ttotal: 3m 51s\tremaining: 1m 51s\n",
      "\n",
      "bestTest = 0.8401555671\n",
      "bestIteration = 183\n",
      "\n",
      "54:\tloss: 0.8401556\tbest: 0.8433151 (35)\ttotal: 3m 55s\tremaining: 1m 46s\n",
      "\n",
      "bestTest = 0.8408636703\n",
      "bestIteration = 199\n",
      "\n",
      "55:\tloss: 0.8408637\tbest: 0.8433151 (35)\ttotal: 3m 58s\tremaining: 1m 42s\n",
      "\n",
      "bestTest = 0.8441705487\n",
      "bestIteration = 157\n",
      "\n",
      "56:\tloss: 0.8441705\tbest: 0.8441705 (56)\ttotal: 4m 2s\tremaining: 1m 37s\n",
      "\n",
      "bestTest = 0.8405329825\n",
      "bestIteration = 153\n",
      "\n",
      "57:\tloss: 0.8405330\tbest: 0.8441705 (56)\ttotal: 4m 5s\tremaining: 1m 33s\n",
      "\n",
      "bestTest = 0.8393072809\n",
      "bestIteration = 140\n",
      "\n",
      "58:\tloss: 0.8393073\tbest: 0.8441705 (56)\ttotal: 4m 9s\tremaining: 1m 28s\n",
      "\n",
      "bestTest = 0.8404898493\n",
      "bestIteration = 132\n",
      "\n",
      "59:\tloss: 0.8404898\tbest: 0.8441705 (56)\ttotal: 4m 12s\tremaining: 1m 24s\n",
      "\n",
      "bestTest = 0.8330673453\n",
      "bestIteration = 268\n",
      "\n",
      "60:\tloss: 0.8330673\tbest: 0.8441705 (56)\ttotal: 4m 17s\tremaining: 1m 20s\n",
      "\n",
      "bestTest = 0.8334807051\n",
      "bestIteration = 277\n",
      "\n",
      "61:\tloss: 0.8334807\tbest: 0.8441705 (56)\ttotal: 4m 22s\tremaining: 1m 16s\n",
      "\n",
      "bestTest = 0.8353210548\n",
      "bestIteration = 299\n",
      "\n",
      "62:\tloss: 0.8353211\tbest: 0.8441705 (56)\ttotal: 4m 27s\tremaining: 1m 12s\n",
      "\n",
      "bestTest = 0.8354288877\n",
      "bestIteration = 298\n",
      "\n",
      "63:\tloss: 0.8354289\tbest: 0.8441705 (56)\ttotal: 4m 32s\tremaining: 1m 8s\n",
      "\n",
      "bestTest = 0.8370571659\n",
      "bestIteration = 297\n",
      "\n",
      "64:\tloss: 0.8370572\tbest: 0.8441705 (56)\ttotal: 4m 36s\tremaining: 1m 3s\n",
      "\n",
      "bestTest = 0.8396595353\n",
      "bestIteration = 295\n",
      "\n",
      "65:\tloss: 0.8396595\tbest: 0.8441705 (56)\ttotal: 4m 41s\tremaining: 59.8s\n",
      "\n",
      "bestTest = 0.8382109788\n",
      "bestIteration = 294\n",
      "\n",
      "66:\tloss: 0.8382110\tbest: 0.8441705 (56)\ttotal: 4m 47s\tremaining: 55.7s\n",
      "\n",
      "bestTest = 0.8384158615\n",
      "bestIteration = 299\n",
      "\n",
      "67:\tloss: 0.8384159\tbest: 0.8441705 (56)\ttotal: 4m 52s\tremaining: 51.5s\n",
      "\n",
      "bestTest = 0.8403748275\n",
      "bestIteration = 280\n",
      "\n",
      "68:\tloss: 0.8403748\tbest: 0.8441705 (56)\ttotal: 4m 57s\tremaining: 47.4s\n",
      "\n",
      "bestTest = 0.840479066\n",
      "bestIteration = 276\n",
      "\n",
      "69:\tloss: 0.8404791\tbest: 0.8441705 (56)\ttotal: 5m 2s\tremaining: 43.2s\n",
      "\n",
      "bestTest = 0.8425746204\n",
      "bestIteration = 204\n",
      "\n",
      "70:\tloss: 0.8425746\tbest: 0.8441705 (56)\ttotal: 5m 7s\tremaining: 39s\n",
      "\n",
      "bestTest = 0.8410326087\n",
      "bestIteration = 223\n",
      "\n",
      "71:\tloss: 0.8410326\tbest: 0.8441705 (56)\ttotal: 5m 12s\tremaining: 34.8s\n",
      "\n",
      "bestTest = 0.8402418334\n",
      "bestIteration = 243\n",
      "\n",
      "72:\tloss: 0.8402418\tbest: 0.8441705 (56)\ttotal: 5m 18s\tremaining: 30.5s\n",
      "\n",
      "bestTest = 0.8426069703\n",
      "bestIteration = 297\n",
      "\n",
      "73:\tloss: 0.8426070\tbest: 0.8441705 (56)\ttotal: 5m 23s\tremaining: 26.2s\n",
      "\n",
      "bestTest = 0.8401555671\n",
      "bestIteration = 183\n",
      "\n",
      "74:\tloss: 0.8401556\tbest: 0.8441705 (56)\ttotal: 5m 29s\tremaining: 21.9s\n",
      "\n",
      "bestTest = 0.8408636703\n",
      "bestIteration = 199\n",
      "\n",
      "75:\tloss: 0.8408637\tbest: 0.8441705 (56)\ttotal: 5m 34s\tremaining: 17.6s\n",
      "\n",
      "bestTest = 0.8441705487\n",
      "bestIteration = 157\n",
      "\n",
      "76:\tloss: 0.8441705\tbest: 0.8441705 (56)\ttotal: 5m 40s\tremaining: 13.2s\n",
      "\n",
      "bestTest = 0.8405329825\n",
      "bestIteration = 153\n",
      "\n",
      "77:\tloss: 0.8405330\tbest: 0.8441705 (56)\ttotal: 5m 45s\tremaining: 8.86s\n",
      "\n",
      "bestTest = 0.8393072809\n",
      "bestIteration = 140\n",
      "\n",
      "78:\tloss: 0.8393073\tbest: 0.8441705 (56)\ttotal: 5m 50s\tremaining: 4.44s\n",
      "\n",
      "bestTest = 0.8404898493\n",
      "bestIteration = 132\n",
      "\n",
      "79:\tloss: 0.8404898\tbest: 0.8441705 (56)\ttotal: 5m 56s\tremaining: 0us\n",
      "Estimating final quality...\n",
      "Training on fold [0/5]\n",
      "\n",
      "bestTest = 0.8645833333\n",
      "bestIteration = 101\n",
      "\n",
      "Training on fold [1/5]\n",
      "\n",
      "bestTest = 0.8432170205\n",
      "bestIteration = 187\n",
      "\n",
      "Training on fold [2/5]\n",
      "\n",
      "bestTest = 0.8466034343\n",
      "bestIteration = 181\n",
      "\n",
      "Training on fold [3/5]\n",
      "\n",
      "bestTest = 0.8622846328\n",
      "bestIteration = 134\n",
      "\n",
      "Training on fold [4/5]\n",
      "\n",
      "bestTest = 0.8430053093\n",
      "bestIteration = 188\n",
      "\n"
     ]
    }
   ],
   "source": [
    "catboost_final = boost_model_new.grid_search({'max_depth': [4],\n",
    "                                                  'learning_rate': np.linspace(0.01, 0.1, 20),\n",
    "                                                  'l2_leaf_reg': [1],\n",
    "                                                  'iterations'    : [200, 300],\n",
    "                                                  'random_strength': [2,5]},\n",
    "                                             X_train,\n",
    "                                             y_train,\n",
    "                                             cv=5)"
   ]
  },
  {
   "cell_type": "code",
   "execution_count": 57,
   "id": "2d0bb4eb",
   "metadata": {},
   "outputs": [
    {
     "data": {
      "text/plain": [
       "{'random_strength': 5,\n",
       " 'depth': 4,\n",
       " 'l2_leaf_reg': 1,\n",
       " 'iterations': 200,\n",
       " 'learning_rate': 0.08578947368421053}"
      ]
     },
     "execution_count": 57,
     "metadata": {},
     "output_type": "execute_result"
    }
   ],
   "source": [
    "catboost_final['params']"
   ]
  },
  {
   "cell_type": "code",
   "execution_count": 58,
   "id": "ddf541f1",
   "metadata": {},
   "outputs": [],
   "source": [
    "best_catboost_model = CatBoostClassifier(random_strength=5,\n",
    "                                         depth=4,\n",
    "                                         l2_leaf_reg=1,\n",
    "                                         iterations=200,\n",
    "                                         eval_metric='AUC:hints=skip_train~false',\n",
    "                                         learning_rate=0.08578947368421053,\n",
    "                                         cat_features=categorical_columns,\n",
    "                                         random_seed=10)"
   ]
  },
  {
   "cell_type": "code",
   "execution_count": 59,
   "id": "a2cbcdf5",
   "metadata": {},
   "outputs": [
    {
     "data": {
      "text/plain": [
       "<catboost.core.CatBoostClassifier at 0x1fdd6fd7d30>"
      ]
     },
     "execution_count": 59,
     "metadata": {},
     "output_type": "execute_result"
    }
   ],
   "source": [
    "best_catboost_model.fit(X_train, y_train, cat_features=categorical_columns, verbose=False)"
   ]
  },
  {
   "cell_type": "code",
   "execution_count": 60,
   "id": "dbe710f7",
   "metadata": {},
   "outputs": [],
   "source": [
    "final_proba_train_new = best_catboost_model.predict_proba(X_train)[:, 1]\n",
    "final_proba_val_new = best_catboost_model.predict_proba(X_val)[:, 1]"
   ]
  },
  {
   "cell_type": "code",
   "execution_count": 61,
   "id": "8290b46b",
   "metadata": {
    "scrolled": true
   },
   "outputs": [
    {
     "data": {
      "text/plain": [
       "[<matplotlib.lines.Line2D at 0x1fdd73c5be0>]"
      ]
     },
     "execution_count": 61,
     "metadata": {},
     "output_type": "execute_result"
    },
    {
     "data": {
      "image/png": "[encoded data removed]",
      "text/plain": [
       "<Figure size 720x504 with 1 Axes>"
      ]
     },
     "metadata": {
      "needs_background": "light"
     },
     "output_type": "display_data"
    }
   ],
   "source": [
    "train_auc = roc_auc_score(y_train, final_proba_train_new)\n",
    "test_auc = roc_auc_score(y_val, final_proba_val_new)\n",
    "\n",
    "plt.figure(figsize=(10,7))\n",
    "plt.plot(*roc_curve(y_train, final_proba_train_new)[:2], label='train AUC={:.4f}'.format(train_auc))\n",
    "plt.plot(*roc_curve(y_val, final_proba_val_new)[:2], label='test AUC={:.4f}'.format(test_auc))\n",
    "legend_box = plt.legend(fontsize='large', framealpha=1).get_frame()\n",
    "legend_box.set_facecolor(\"white\")\n",
    "legend_box.set_edgecolor(\"black\")\n",
    "plt.plot(np.linspace(0,1,100), np.linspace(0,1,100))"
   ]
  },
  {
   "cell_type": "markdown",
   "id": "43d3b64f",
   "metadata": {},
   "source": [
    "Результат улучшился всего на две десятитысячных, но возьмем эту модель как самую лучшую."
   ]
  },
  {
   "cell_type": "code",
   "execution_count": 67,
   "id": "67e9060b",
   "metadata": {},
   "outputs": [],
   "source": [
    "best_model = best_catboost_model"
   ]
  },
  {
   "cell_type": "code",
   "execution_count": 62,
   "id": "27180e61",
   "metadata": {},
   "outputs": [],
   "source": [
    "submission = pd.read_csv(r\"C:\\Users\\user\\Downloads\\submission.csv\")"
   ]
  },
  {
   "cell_type": "code",
   "execution_count": 68,
   "id": "25155b28",
   "metadata": {},
   "outputs": [],
   "source": [
    "submission['Churn'] = best_model.predict_proba(test_data)[:, 1]"
   ]
  },
  {
   "cell_type": "code",
   "execution_count": 70,
   "id": "2d253bc7",
   "metadata": {},
   "outputs": [],
   "source": [
    "submission.to_csv('my_submission.csv', index=False)"
   ]
  },
  {
   "cell_type": "code",
   "execution_count": 72,
   "id": "6b616819",
   "metadata": {},
   "outputs": [
    {
     "data": {
      "text/html": [
       "<div>\n",
       "<style scoped>\n",
       "    .dataframe tbody tr th:only-of-type {\n",
       "        vertical-align: middle;\n",
       "    }\n",
       "\n",
       "    .dataframe tbody tr th {\n",
       "        vertical-align: top;\n",
       "    }\n",
       "\n",
       "    .dataframe thead th {\n",
       "        text-align: right;\n",
       "    }\n",
       "</style>\n",
       "<table border=\"1\" class=\"dataframe\">\n",
       "  <thead>\n",
       "    <tr style=\"text-align: right;\">\n",
       "      <th></th>\n",
       "      <th>Id</th>\n",
       "      <th>Churn</th>\n",
       "    </tr>\n",
       "  </thead>\n",
       "  <tbody>\n",
       "    <tr>\n",
       "      <th>0</th>\n",
       "      <td>0</td>\n",
       "      <td>0.039337</td>\n",
       "    </tr>\n",
       "    <tr>\n",
       "      <th>1</th>\n",
       "      <td>1</td>\n",
       "      <td>0.700427</td>\n",
       "    </tr>\n",
       "    <tr>\n",
       "      <th>2</th>\n",
       "      <td>2</td>\n",
       "      <td>0.677258</td>\n",
       "    </tr>\n",
       "    <tr>\n",
       "      <th>3</th>\n",
       "      <td>3</td>\n",
       "      <td>0.015681</td>\n",
       "    </tr>\n",
       "    <tr>\n",
       "      <th>4</th>\n",
       "      <td>4</td>\n",
       "      <td>0.003269</td>\n",
       "    </tr>\n",
       "  </tbody>\n",
       "</table>\n",
       "</div>"
      ],
      "text/plain": [
       "   Id     Churn\n",
       "0   0  0.039337\n",
       "1   1  0.700427\n",
       "2   2  0.677258\n",
       "3   3  0.015681\n",
       "4   4  0.003269"
      ]
     },
     "execution_count": 72,
     "metadata": {},
     "output_type": "execute_result"
    }
   ],
   "source": [
    "submission.head()"
   ]
  },
  {
   "cell_type": "markdown",
   "id": "ea34259b",
   "metadata": {},
   "source": [
    "На Kaggle получился score: 0.85244"
   ]
  },
  {
   "cell_type": "code",
   "execution_count": null,
   "id": "dbf98012",
   "metadata": {},
   "outputs": [],
   "source": []
  }
 ],
 "metadata": {
  "kernelspec": {
   "display_name": "Python 3 (ipykernel)",
   "language": "python",
   "name": "python3"
  },
  "language_info": {
   "codemirror_mode": {
    "name": "ipython",
    "version": 3
   },
   "file_extension": ".py",
   "mimetype": "text/x-python",
   "name": "python",
   "nbconvert_exporter": "python",
   "pygments_lexer": "ipython3",
   "version": "3.9.12"
  }
 },
 "nbformat": 4,
 "nbformat_minor": 5
}
